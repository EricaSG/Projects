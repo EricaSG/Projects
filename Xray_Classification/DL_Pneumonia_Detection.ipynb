{
 "cells": [
  {
   "cell_type": "markdown",
   "metadata": {},
   "source": [
    "# 1. Business & Data Understanding\n",
    "\n",
    "Build a model that can classify whether a given patient has pneumonia, given a chest x-ray image."
   ]
  },
  {
   "cell_type": "markdown",
   "metadata": {},
   "source": [
    "## Import Libraries and Image Files"
   ]
  },
  {
   "cell_type": "code",
   "execution_count": 1,
   "metadata": {},
   "outputs": [
    {
     "name": "stderr",
     "output_type": "stream",
     "text": [
      "Using TensorFlow backend.\n",
      "\n",
      "Bad key \"text.kerning_factor\" on line 4 in\n",
      "/Applications/anaconda3/envs/learn-env/lib/python3.6/site-packages/matplotlib/mpl-data/stylelib/_classic_test_patch.mplstyle.\n",
      "You probably need to get an updated matplotlibrc file from\n",
      "https://github.com/matplotlib/matplotlib/blob/v3.1.3/matplotlibrc.template\n",
      "or from the matplotlib source distribution\n"
     ]
    }
   ],
   "source": [
    "import warnings\n",
    "warnings.filterwarnings('ignore')\n",
    "from keras.preprocessing.image import ImageDataGenerator, array_to_img, img_to_array, load_img\n",
    "import numpy as np\n",
    "import os\n",
    "import matplotlib.pyplot as plt\n",
    "%matplotlib inline\n",
    "import keras\n",
    "from keras import layers\n",
    "from keras.models import Sequential\n",
    "from keras.layers import Dense\n",
    "from sklearn.model_selection import train_test_split\n",
    "from sklearn.metrics import mean_squared_error\n",
    "from sklearn.model_selection import cross_val_predict\n",
    "from keras import regularizers\n",
    "from keras.wrappers.scikit_learn import KerasRegressor\n",
    "from keras.layers import Convolution2D\n",
    "from keras.layers import MaxPooling2D\n",
    "from keras.layers import Flatten\n",
    "from keras.layers import Dense\n",
    "from keras.callbacks import EarlyStopping, ModelCheckpoint\n",
    "from keras import regularizers\n",
    "from sklearn.metrics import classification_report\n",
    "from sklearn.metrics import confusion_matrix\n",
    "import itertools\n",
    "from keras.applications.vgg16 import preprocess_input\n",
    "from keras.applications.vgg16 import VGG16\n",
    "from keras.optimizers import Adam, Adadelta, Adagrad, SGD, RMSprop"
   ]
  },
  {
   "cell_type": "code",
   "execution_count": 2,
   "metadata": {},
   "outputs": [],
   "source": [
    "# Get the Directory Paths of the Image sets\n",
    "train_dir = 'chest_xray/train/'\n",
    "val_dir = 'chest_xray/val/'\n",
    "test_dir = 'chest_xray/test/'"
   ]
  },
  {
   "cell_type": "markdown",
   "metadata": {},
   "source": [
    "### Preview Images"
   ]
  },
  {
   "cell_type": "code",
   "execution_count": 222,
   "metadata": {},
   "outputs": [
    {
     "data": {
      "image/png": "[encoded data removed]",
      "text/plain": [
       "<PIL.Image.Image image mode=RGB size=64x64 at 0x7FB9BF07E550>"
      ]
     },
     "execution_count": 222,
     "metadata": {},
     "output_type": "execute_result"
    }
   ],
   "source": [
    "# Image 20\n",
    "array_to_img(train_images[20])"
   ]
  },
  {
   "cell_type": "code",
   "execution_count": 221,
   "metadata": {},
   "outputs": [
    {
     "data": {
      "image/png": "[encoded data removed]",
      "text/plain": [
       "<PIL.Image.Image image mode=RGB size=64x64 at 0x7FB9BF9069E8>"
      ]
     },
     "execution_count": 221,
     "metadata": {},
     "output_type": "execute_result"
    }
   ],
   "source": [
    "# Image 8\n",
    "array_to_img(val_images[8])"
   ]
  },
  {
   "cell_type": "code",
   "execution_count": 220,
   "metadata": {},
   "outputs": [
    {
     "data": {
      "image/png": "[encoded data removed]",
      "text/plain": [
       "<PIL.Image.Image image mode=RGB size=64x64 at 0x7FB9CA69CCF8>"
      ]
     },
     "execution_count": 220,
     "metadata": {},
     "output_type": "execute_result"
    }
   ],
   "source": [
    "# Image 200\n",
    "array_to_img(test_images[200])"
   ]
  },
  {
   "cell_type": "markdown",
   "metadata": {},
   "source": [
    "# 2. Data Preparation"
   ]
  },
  {
   "cell_type": "markdown",
   "metadata": {},
   "source": [
    "## Addressing Class Imbalance\n",
    "\n",
    "There are 1341 \"normal\" chest x-rays and 3875 bacterial/viral pneumonia x-rays. Generate 2534 more normal images to balance out the dataset."
   ]
  },
  {
   "cell_type": "code",
   "execution_count": 78,
   "metadata": {},
   "outputs": [],
   "source": [
    "# Establish the criteria for data augementation; create random transformation of images\n",
    "datagen = ImageDataGenerator(\n",
    "            rotation_range = 40,\n",
    "            width_shift_range = 0.2,\n",
    "            height_shift_range = 0.2,\n",
    "            rescale = 1./255,\n",
    "            shear_range = 0.2,\n",
    "            zoom_range = 0.2,\n",
    "            horizontal_flip = True,\n",
    "            fill_mode = 'nearest')"
   ]
  },
  {
   "cell_type": "code",
   "execution_count": 79,
   "metadata": {},
   "outputs": [],
   "source": [
    "# Select a random normal image to transform. Put the image path into load_img\n",
    "img = load_img('chest_xray/train/NORMAL/IM-0757-0001.jpeg')"
   ]
  },
  {
   "cell_type": "code",
   "execution_count": 80,
   "metadata": {},
   "outputs": [
    {
     "data": {
      "text/plain": [
       "<bound method Image.getpixel of <PIL.Image.Image image mode=RGB size=1284x1086 at 0x7FB98CB47240>>"
      ]
     },
     "execution_count": 80,
     "metadata": {},
     "output_type": "execute_result"
    }
   ],
   "source": [
    "# Get the size of the image\n",
    "img.getpixel"
   ]
  },
  {
   "cell_type": "code",
   "execution_count": 81,
   "metadata": {},
   "outputs": [],
   "source": [
    "# Convert the image to an array\n",
    "img_array = img_to_array(img)"
   ]
  },
  {
   "cell_type": "code",
   "execution_count": 82,
   "metadata": {
    "scrolled": true
   },
   "outputs": [
    {
     "data": {
      "text/plain": [
       "(1086, 1284, 3)"
      ]
     },
     "execution_count": 82,
     "metadata": {},
     "output_type": "execute_result"
    }
   ],
   "source": [
    "# Get the shape of the image array\n",
    "img_array.shape"
   ]
  },
  {
   "cell_type": "code",
   "execution_count": 83,
   "metadata": {},
   "outputs": [
    {
     "data": {
      "text/plain": [
       "(1, 1086, 1284, 3)"
      ]
     },
     "execution_count": 83,
     "metadata": {},
     "output_type": "execute_result"
    }
   ],
   "source": [
    "# Reshape the array to an (1 x n) array\n",
    "img_array = img_array.reshape((1,) + img_array.shape)\n",
    "img_array.shape"
   ]
  },
  {
   "cell_type": "code",
   "execution_count": 85,
   "metadata": {},
   "outputs": [],
   "source": [
    "# Store the file path to Generated Images Test to the variable \"gen_dir\"\n",
    "gen_dir = 'Generated_Drafts/'"
   ]
  },
  {
   "cell_type": "code",
   "execution_count": 87,
   "metadata": {},
   "outputs": [
    {
     "name": "stdout",
     "output_type": "stream",
     "text": [
      "90 images have been generated at Generated_Drafts/\n"
     ]
    }
   ],
   "source": [
    "# Add 90 \"test\" images to gen_dir in batches of 30 to verify that the code works as intended\n",
    "count = 0\n",
    "for batch in datagen.flow(img_array, batch_size=30, save_to_dir=gen_dir, save_prefix='IM', save_format='jpeg'):\n",
    "    count +=1\n",
    "    if count == 90:\n",
    "        break\n",
    "        \n",
    "print('90 images have been generated at', gen_dir)\n"
   ]
  },
  {
   "cell_type": "code",
   "execution_count": 88,
   "metadata": {},
   "outputs": [
    {
     "name": "stdout",
     "output_type": "stream",
     "text": [
      "2534 images have been generated at Generated_Drafts/\n"
     ]
    }
   ],
   "source": [
    "# Add the Normal X-ray Training file path\n",
    "norm_dir = 'chest_xray/train/NORMAL/'\n",
    "\n",
    "# Add 2534 Images to the file path in batches of 150\n",
    "count = 0\n",
    "for batch in datagen.flow(img_array, batch_size=150, save_to_dir=norm_dir, save_prefix='IM', save_format='jpeg'):\n",
    "    count +=1\n",
    "    if count == 2534:\n",
    "        break\n",
    "        \n",
    "print('2534 images have been generated at', norm_dir)"
   ]
  },
  {
   "cell_type": "code",
   "execution_count": 89,
   "metadata": {},
   "outputs": [
    {
     "name": "stdout",
     "output_type": "stream",
     "text": [
      "279 additional images have been generated at chest_xray/train/NORMAL/\n"
     ]
    }
   ],
   "source": [
    "# The previous code block stopped 279 images short of 2534. This block, adds them to the Normal Chest Training File Path\n",
    "count = 0\n",
    "for batch in datagen.flow(img_array, batch_size=31, save_to_dir=norm_dir, save_prefix='IM', save_format='jpeg'):\n",
    "    count +=1\n",
    "    if count == 279:\n",
    "        break\n",
    "        \n",
    "print('279 additional images have been generated at', norm_dir)"
   ]
  },
  {
   "cell_type": "markdown",
   "metadata": {},
   "source": [
    "## Preprocessing"
   ]
  },
  {
   "cell_type": "markdown",
   "metadata": {},
   "source": [
    "### Read in Images"
   ]
  },
  {
   "cell_type": "code",
   "execution_count": 3,
   "metadata": {},
   "outputs": [
    {
     "name": "stdout",
     "output_type": "stream",
     "text": [
      "Found 7685 images belonging to 2 classes.\n"
     ]
    }
   ],
   "source": [
    "# Resize all 7685 images in the train directory\n",
    "train_generator = ImageDataGenerator(rescale=1./255).flow_from_directory(train_dir,\n",
    "                                                          target_size = (64, 64), batch_size= 7685)"
   ]
  },
  {
   "cell_type": "code",
   "execution_count": 4,
   "metadata": {},
   "outputs": [
    {
     "name": "stdout",
     "output_type": "stream",
     "text": [
      "Found 16 images belonging to 2 classes.\n"
     ]
    }
   ],
   "source": [
    "# Resize all 16 images in the val directory\n",
    "val_generator = ImageDataGenerator(rescale=1./255).flow_from_directory(val_dir,\n",
    "                                                        target_size = (64, 64), batch_size=16)\n",
    "\n"
   ]
  },
  {
   "cell_type": "code",
   "execution_count": 5,
   "metadata": {},
   "outputs": [
    {
     "name": "stdout",
     "output_type": "stream",
     "text": [
      "Found 624 images belonging to 2 classes.\n"
     ]
    }
   ],
   "source": [
    "# Resize all 624 images in the val directory\n",
    "test_generator = ImageDataGenerator(rescale=1./255).flow_from_directory(test_dir,\n",
    "                                                          target_size = (64, 64), batch_size=624)\n",
    "\n"
   ]
  },
  {
   "cell_type": "code",
   "execution_count": 6,
   "metadata": {},
   "outputs": [],
   "source": [
    "# Iterate through all of the images and create image-label datasets stored into \"X_images\" and \"X_labels\"\n",
    "train_images, train_labels = next(train_generator)"
   ]
  },
  {
   "cell_type": "code",
   "execution_count": 7,
   "metadata": {},
   "outputs": [],
   "source": [
    "val_images, val_labels = next(val_generator)"
   ]
  },
  {
   "cell_type": "code",
   "execution_count": 8,
   "metadata": {},
   "outputs": [],
   "source": [
    "test_images, test_labels = next(test_generator)"
   ]
  },
  {
   "cell_type": "code",
   "execution_count": 96,
   "metadata": {},
   "outputs": [
    {
     "data": {
      "image/png": "[encoded data removed]",
      "text/plain": [
       "<PIL.Image.Image image mode=RGB size=64x64 at 0x7FB98CBA8EB8>"
      ]
     },
     "execution_count": 96,
     "metadata": {},
     "output_type": "execute_result"
    }
   ],
   "source": [
    "# Preview an Image\n",
    "array_to_img(train_images[80])"
   ]
  },
  {
   "cell_type": "markdown",
   "metadata": {},
   "source": [
    "## Check the Shape of the Image & Label Arrays"
   ]
  },
  {
   "cell_type": "code",
   "execution_count": 97,
   "metadata": {
    "scrolled": true
   },
   "outputs": [
    {
     "name": "stdout",
     "output_type": "stream",
     "text": [
      "Shape of Train Images:  (7685, 64, 64, 3)\n",
      "Shape of Train Labels:  (7685, 2)\n",
      "Shape of Validation Images:  (16, 64, 64, 3)\n",
      "Shape of Validation Labels:  (16, 2)\n",
      "Shape of Test Images:  (624, 64, 64, 3)\n",
      "Shape of Test Labels:  (624, 2)\n"
     ]
    }
   ],
   "source": [
    "print('Shape of Train Images: ', np.shape(train_images))\n",
    "print('Shape of Train Labels: ', np.shape(train_labels))\n",
    "print('Shape of Validation Images: ', np.shape(val_images))\n",
    "print('Shape of Validation Labels: ', np.shape(val_labels))\n",
    "print('Shape of Test Images: ', np.shape(test_images))\n",
    "print('Shape of Test Labels: ', np.shape(test_labels))"
   ]
  },
  {
   "cell_type": "markdown",
   "metadata": {},
   "source": [
    "## Transform Label Matrices"
   ]
  },
  {
   "cell_type": "code",
   "execution_count": 9,
   "metadata": {},
   "outputs": [
    {
     "data": {
      "text/plain": [
       "(7685, 1)"
      ]
     },
     "execution_count": 9,
     "metadata": {},
     "output_type": "execute_result"
    }
   ],
   "source": [
    "# Transform the labels to (m X 1) matrices\n",
    "train_labels_final = np.reshape(train_labels[:,0], (7685,1))\n",
    "np.shape(train_labels_final)"
   ]
  },
  {
   "cell_type": "code",
   "execution_count": 10,
   "metadata": {},
   "outputs": [
    {
     "data": {
      "text/plain": [
       "(16, 1)"
      ]
     },
     "execution_count": 10,
     "metadata": {},
     "output_type": "execute_result"
    }
   ],
   "source": [
    "val_labels_final = np.reshape(val_labels[:,0], (16,1))\n",
    "np.shape(val_labels_final)"
   ]
  },
  {
   "cell_type": "code",
   "execution_count": 11,
   "metadata": {},
   "outputs": [
    {
     "data": {
      "text/plain": [
       "(624, 1)"
      ]
     },
     "execution_count": 11,
     "metadata": {},
     "output_type": "execute_result"
    }
   ],
   "source": [
    "test_labels_final = np.reshape(test_labels[:,0], (624,1))\n",
    "np.shape(test_labels_final)"
   ]
  },
  {
   "cell_type": "code",
   "execution_count": 33,
   "metadata": {},
   "outputs": [
    {
     "data": {
      "text/plain": [
       "{'NORMAL': 0, 'PNEUMONIA': 1}"
      ]
     },
     "execution_count": 33,
     "metadata": {},
     "output_type": "execute_result"
    }
   ],
   "source": [
    "# Verify the Class Labels\n",
    "train_generator.class_indices"
   ]
  },
  {
   "cell_type": "code",
   "execution_count": 103,
   "metadata": {},
   "outputs": [
    {
     "data": {
      "image/png": "[encoded data removed]",
      "text/plain": [
       "<PIL.Image.Image image mode=RGB size=64x64 at 0x7FB98CB4EB70>"
      ]
     },
     "execution_count": 103,
     "metadata": {},
     "output_type": "execute_result"
    }
   ],
   "source": [
    "# Select a random image to verify\n",
    "array_to_img(train_images[4000])"
   ]
  },
  {
   "cell_type": "code",
   "execution_count": 104,
   "metadata": {},
   "outputs": [
    {
     "data": {
      "text/plain": [
       "array([1.], dtype=float32)"
      ]
     },
     "execution_count": 104,
     "metadata": {},
     "output_type": "execute_result"
    }
   ],
   "source": [
    "# Return the respective label and verify that the label matches the image\n",
    "train_labels_final[4000, :]"
   ]
  },
  {
   "cell_type": "markdown",
   "metadata": {},
   "source": [
    "## 3. Modeling & Evaluation\n",
    "\n",
    "Build a convolutional neural network and fit the resulting deep learning model to the training dataset. Test on the Validation Dataset until optimal performance is achieved, then validate the model on the test set."
   ]
  },
  {
   "cell_type": "markdown",
   "metadata": {},
   "source": [
    "## Model 1: Default Settings, No Added Regularization or Normalization Techniques"
   ]
  },
  {
   "cell_type": "code",
   "execution_count": 105,
   "metadata": {},
   "outputs": [],
   "source": [
    "# Build the CNN\n",
    "# Convolution & Pooling\n",
    "model2 = Sequential()\n",
    "\n",
    "model2.add(layers.Conv2D(32, (3, 3), activation='relu', input_shape=(64, 64, 3)))\n",
    "model2.add(layers.MaxPooling2D((2, 2)))\n",
    "\n",
    "model2.add(layers.Conv2D(32, (4, 4), activation='relu'))\n",
    "model2.add(layers.MaxPooling2D((2, 2)))\n",
    "\n",
    "model2.add(layers.Conv2D(64, (3, 3), activation='relu'))\n",
    "model2.add(layers.MaxPooling2D((2,2)))\n",
    "\n",
    "# Flattening- Convert 2D matrix to a 1D vector\n",
    "model2.add(layers.Flatten())\n",
    "model2.add(layers.Dense(64, activation = 'relu'))\n",
    "model2.add(layers.Dense(1, activation='softmax'))\n",
    "\n"
   ]
  },
  {
   "cell_type": "code",
   "execution_count": 106,
   "metadata": {},
   "outputs": [
    {
     "name": "stdout",
     "output_type": "stream",
     "text": [
      "_________________________________________________________________\n",
      "Layer (type)                 Output Shape              Param #   \n",
      "=================================================================\n",
      "conv2d_4 (Conv2D)            (None, 62, 62, 32)        896       \n",
      "_________________________________________________________________\n",
      "max_pooling2d_4 (MaxPooling2 (None, 31, 31, 32)        0         \n",
      "_________________________________________________________________\n",
      "conv2d_5 (Conv2D)            (None, 28, 28, 32)        16416     \n",
      "_________________________________________________________________\n",
      "max_pooling2d_5 (MaxPooling2 (None, 14, 14, 32)        0         \n",
      "_________________________________________________________________\n",
      "conv2d_6 (Conv2D)            (None, 12, 12, 64)        18496     \n",
      "_________________________________________________________________\n",
      "max_pooling2d_6 (MaxPooling2 (None, 6, 6, 64)          0         \n",
      "_________________________________________________________________\n",
      "flatten_2 (Flatten)          (None, 2304)              0         \n",
      "_________________________________________________________________\n",
      "dense_3 (Dense)              (None, 64)                147520    \n",
      "_________________________________________________________________\n",
      "dense_4 (Dense)              (None, 1)                 65        \n",
      "=================================================================\n",
      "Total params: 183,393\n",
      "Trainable params: 183,393\n",
      "Non-trainable params: 0\n",
      "_________________________________________________________________\n"
     ]
    }
   ],
   "source": [
    "# Return the summary of the model\n",
    "model2.summary()"
   ]
  },
  {
   "cell_type": "code",
   "execution_count": 107,
   "metadata": {},
   "outputs": [],
   "source": [
    "# Compile the model\n",
    "model2.compile(loss='binary_crossentropy', optimizer='adam', metrics=['accuracy'])"
   ]
  },
  {
   "cell_type": "code",
   "execution_count": 122,
   "metadata": {},
   "outputs": [],
   "source": [
    "# Employ the earyl stopping callback to stop the model when the validation loss has stopped improving, then save the resulting model with the file name \"best_model.h5\"\n",
    "early_stopping = [EarlyStopping(monitor='val_loss', patience=10), \n",
    "                  ModelCheckpoint(filepath='best_model.h5', monitor='val_loss', save_best_only=True)]"
   ]
  },
  {
   "cell_type": "code",
   "execution_count": 123,
   "metadata": {},
   "outputs": [
    {
     "name": "stdout",
     "output_type": "stream",
     "text": [
      "Train on 7685 samples, validate on 16 samples\n",
      "Epoch 1/100\n",
      "7685/7685 [==============================] - 71s 9ms/step - loss: 8.0386 - acc: 0.4958 - val_loss: 7.9712 - val_acc: 0.5000\n",
      "Epoch 2/100\n",
      "7685/7685 [==============================] - 60s 8ms/step - loss: 8.0386 - acc: 0.4958 - val_loss: 7.9712 - val_acc: 0.5000\n",
      "Epoch 3/100\n",
      "7685/7685 [==============================] - 58s 8ms/step - loss: 8.0386 - acc: 0.4958 - val_loss: 7.9712 - val_acc: 0.5000\n",
      "Epoch 4/100\n",
      "7685/7685 [==============================] - 58s 8ms/step - loss: 8.0386 - acc: 0.4958 - val_loss: 7.9712 - val_acc: 0.5000\n",
      "Epoch 5/100\n",
      "7685/7685 [==============================] - 65s 8ms/step - loss: 8.0386 - acc: 0.4958 - val_loss: 7.9712 - val_acc: 0.5000\n",
      "Epoch 6/100\n",
      "7685/7685 [==============================] - 120s 16ms/step - loss: 8.0386 - acc: 0.4958 - val_loss: 7.9712 - val_acc: 0.5000\n",
      "Epoch 7/100\n",
      "7685/7685 [==============================] - 99s 13ms/step - loss: 8.0386 - acc: 0.4958 - val_loss: 7.9712 - val_acc: 0.5000\n",
      "Epoch 8/100\n",
      "7685/7685 [==============================] - 67s 9ms/step - loss: 8.0386 - acc: 0.4958 - val_loss: 7.9712 - val_acc: 0.5000\n",
      "Epoch 9/100\n",
      "7685/7685 [==============================] - 98s 13ms/step - loss: 8.0386 - acc: 0.4958 - val_loss: 7.9712 - val_acc: 0.5000\n",
      "Epoch 10/100\n",
      "7685/7685 [==============================] - 86s 11ms/step - loss: 8.0386 - acc: 0.4958 - val_loss: 7.9712 - val_acc: 0.5000\n",
      "Epoch 11/100\n",
      "7685/7685 [==============================] - 80s 10ms/step - loss: 8.0386 - acc: 0.4958 - val_loss: 7.9712 - val_acc: 0.5000\n"
     ]
    }
   ],
   "source": [
    "# Train the model\n",
    "results2 = model2.fit(train_images, train_labels_final, epochs=100, callbacks=early_stopping, batch_size=500, validation_data=(val_images, val_labels_final))"
   ]
  },
  {
   "cell_type": "code",
   "execution_count": 124,
   "metadata": {},
   "outputs": [
    {
     "name": "stdout",
     "output_type": "stream",
     "text": [
      "7685/7685 [==============================] - 28s 4ms/step\n"
     ]
    },
    {
     "data": {
      "text/plain": [
       "[8.03861348518863, 0.4957709824488236]"
      ]
     },
     "execution_count": 124,
     "metadata": {},
     "output_type": "execute_result"
    }
   ],
   "source": [
    "# Evaluate the model and return the final loss and accuacy for the training set\n",
    "results_train2 = model2.evaluate(train_images, train_labels_final)\n",
    "results_train2"
   ]
  },
  {
   "cell_type": "code",
   "execution_count": 125,
   "metadata": {},
   "outputs": [
    {
     "name": "stdout",
     "output_type": "stream",
     "text": [
      "\r",
      "16/16 [==============================] - 0s 5ms/step\n"
     ]
    },
    {
     "data": {
      "text/plain": [
       "[7.971192359924316, 0.5]"
      ]
     },
     "execution_count": 125,
     "metadata": {},
     "output_type": "execute_result"
    }
   ],
   "source": [
    "# Evaluate the model and return the final loss and accuacy for the validation set\n",
    "results_val2 = model2.evaluate(val_images, val_labels_final)\n",
    "results_val2"
   ]
  },
  {
   "cell_type": "code",
   "execution_count": 12,
   "metadata": {},
   "outputs": [],
   "source": [
    "# Plot the Loss and Accuracy\n",
    "def visualize_training_results(results):\n",
    "    \"\"\"\n",
    "   1 Input: The Training and \n",
    "    Validation/Testing Dictionary \n",
    "    of Loss and Accuracy\n",
    "    \n",
    "    Output: 2 Plots of Loss vs. Epochs\n",
    "    and Accuracy vs. Epochs\n",
    "    \"\"\"\n",
    "    history = results.history\n",
    "    plt.figure()\n",
    "    plt.plot(history['val_loss'])\n",
    "    plt.plot(history['loss'])\n",
    "    plt.legend(['val_loss', 'loss'])\n",
    "    plt.title('Loss')\n",
    "    plt.xlabel('Epochs')\n",
    "    plt.ylabel('Loss')\n",
    "    plt.show()\n",
    "    \n",
    "    plt.figure()\n",
    "    plt.plot(history['val_acc'])\n",
    "    plt.plot(history['acc'])\n",
    "    plt.legend(['val_acc', 'acc'])\n",
    "    plt.title('Accuracy')\n",
    "    plt.xlabel('Epochs')\n",
    "    plt.ylabel('Accuracy')\n",
    "    plt.show()"
   ]
  },
  {
   "cell_type": "code",
   "execution_count": 127,
   "metadata": {},
   "outputs": [
    {
     "data": {
      "image/png": "[encoded data removed]",
      "text/plain": [
       "<Figure size 432x288 with 1 Axes>"
      ]
     },
     "metadata": {
      "needs_background": "light"
     },
     "output_type": "display_data"
    },
    {
     "data": {
      "image/png": "[encoded data removed]",
      "text/plain": [
       "<Figure size 432x288 with 1 Axes>"
      ]
     },
     "metadata": {
      "needs_background": "light"
     },
     "output_type": "display_data"
    }
   ],
   "source": [
    "visualize_training_results(results2)"
   ]
  },
  {
   "cell_type": "markdown",
   "metadata": {},
   "source": [
    "Fixing the class imbalance, doubled both the training and validation accuracies. The original model, that was run and removed here was done on images 150 x 150 on the priginal unbalanced dataset, and yielded an accuracy of 0.256; however the model is slightly overfit, (low variance). The next several models will focus on tuning the hyperparaemters to decrease loss, and reduce the variance so that the model coverges."
   ]
  },
  {
   "cell_type": "code",
   "execution_count": 115,
   "metadata": {},
   "outputs": [
    {
     "data": {
      "image/png": "[encoded data removed]",
      "text/plain": [
       "<PIL.Image.Image image mode=RGB size=64x64 at 0x7FB98F3F4C50>"
      ]
     },
     "execution_count": 115,
     "metadata": {},
     "output_type": "execute_result"
    }
   ],
   "source": [
    "# Use this image for testing the model predictions\n",
    "sample_img = array_to_img(train_images[4000])\n",
    "sample_img"
   ]
  },
  {
   "cell_type": "code",
   "execution_count": 162,
   "metadata": {
    "scrolled": true
   },
   "outputs": [],
   "source": [
    "# Make Predictions\n",
    "preds2 = model2.predict(val_images)"
   ]
  },
  {
   "cell_type": "code",
   "execution_count": 163,
   "metadata": {},
   "outputs": [
    {
     "data": {
      "text/plain": [
       "'              precision    recall  f1-score   support\\n\\n         0.0       0.00      0.00      0.00         8\\n         1.0       0.50      1.00      0.67         8\\n\\n    accuracy                           0.50        16\\n   macro avg       0.25      0.50      0.33        16\\nweighted avg       0.25      0.50      0.33        16\\n'"
      ]
     },
     "execution_count": 163,
     "metadata": {},
     "output_type": "execute_result"
    }
   ],
   "source": [
    "# Print the classification report showing the metrics Recall, Precision, and F1-Score\n",
    "classification_report =classification_report(val_labels_final, preds2)\n",
    "classification_report"
   ]
  },
  {
   "cell_type": "code",
   "execution_count": 13,
   "metadata": {},
   "outputs": [],
   "source": [
    "# Plot a confusion matrix\n",
    "def plot_confusion_matrix(labels, preds):\n",
    "    \"\"\"\n",
    "    Input: Validation/Testing Labels and\n",
    "    model predictions\n",
    "    \n",
    "    Output: A confusion matrix\n",
    "    \n",
    "    \"\"\"\n",
    "    \n",
    "    cnf_matrix = confusion_matrix(labels, preds)\n",
    "\n",
    "    # Create the basic confusion matrix\n",
    "    plt.imshow(cnf_matrix,  cmap=plt.cm.Blues) \n",
    "\n",
    "    # Add title and axis labels\n",
    "    plt.title('Confusion Matrix')\n",
    "    plt.ylabel('True label')\n",
    "    plt.xlabel('Predicted label')\n",
    "\n",
    "    # Add appropriate axis scales\n",
    "    y = train_generator.class_indices\n",
    "    class_names = set(y) # Get class labels to add to matrix\n",
    "    tick_marks = np.arange(len(class_names))\n",
    "    plt.xticks(tick_marks, class_names, rotation=45)\n",
    "    plt.yticks(tick_marks, class_names)\n",
    "\n",
    "    # Add labels to each cell\n",
    "    thresh = cnf_matrix.max() / 2. # Used for text coloring below\n",
    "    # Here we iterate through the confusion matrix and append labels to our visualization \n",
    "    for i, j in itertools.product(range(cnf_matrix.shape[0]), range(cnf_matrix.shape[1])):\n",
    "            plt.text(j, i, cnf_matrix[i, j],\n",
    "                     horizontalalignment='center',\n",
    "                     color='white' if cnf_matrix[i, j] > thresh else 'black')\n",
    "\n",
    "    # Add a legend\n",
    "    plt.colorbar()\n",
    "    plt.show()"
   ]
  },
  {
   "cell_type": "code",
   "execution_count": 176,
   "metadata": {},
   "outputs": [
    {
     "data": {
      "image/png": "[encoded data removed]",
      "text/plain": [
       "<Figure size 432x288 with 2 Axes>"
      ]
     },
     "metadata": {
      "needs_background": "light"
     },
     "output_type": "display_data"
    }
   ],
   "source": [
    "plot_confusion_matrix(val_labels_final, preds2)"
   ]
  },
  {
   "cell_type": "markdown",
   "metadata": {},
   "source": [
    "## Model 3: Hyperparameter Tuning: Optimizers + Early Stopping Criteria"
   ]
  },
  {
   "cell_type": "code",
   "execution_count": 130,
   "metadata": {},
   "outputs": [],
   "source": [
    "# Create a dictionary of optimizer, and assign different colors to the optimizers for plotting the model's loss\n",
    "optimizers = {\"RMSprop\": {\"optimizer\": RMSprop(), \"color\":\"blue\"},\n",
    "                  \"adam_01\": {\"optimizer\": Adam(lr=0.01), \"color\":\"red\"},\n",
    "                  \"sgd\": {\"optimizer\": SGD(), \"color\":\"purple\"},\n",
    "                  \"adadelta\": {\"optimizer\": Adadelta(), \"color\":\"pink\"},\n",
    "                  \"adagrad\": {\"optimizer\": Adagrad(), \"color\":\"yellow\"}}"
   ]
  },
  {
   "cell_type": "code",
   "execution_count": 131,
   "metadata": {},
   "outputs": [
    {
     "name": "stdout",
     "output_type": "stream",
     "text": [
      "Testing RMSprop\n",
      "Train on 7685 samples, validate on 16 samples\n",
      "Epoch 1/15\n",
      "7685/7685 [==============================] - 171s 22ms/step - loss: 8.0386 - acc: 0.4958 - val_loss: 7.9712 - val_acc: 0.5000\n",
      "Epoch 2/15\n",
      "7685/7685 [==============================] - 77s 10ms/step - loss: 8.0386 - acc: 0.4958 - val_loss: 7.9712 - val_acc: 0.5000\n",
      "Epoch 3/15\n",
      "7685/7685 [==============================] - 70s 9ms/step - loss: 8.0386 - acc: 0.4958 - val_loss: 7.9712 - val_acc: 0.5000\n",
      "Epoch 4/15\n",
      "7685/7685 [==============================] - 59s 8ms/step - loss: 8.0386 - acc: 0.4958 - val_loss: 7.9712 - val_acc: 0.5000\n",
      "Epoch 5/15\n",
      "7685/7685 [==============================] - 64s 8ms/step - loss: 8.0386 - acc: 0.4958 - val_loss: 7.9712 - val_acc: 0.5000\n",
      "Epoch 6/15\n",
      "7685/7685 [==============================] - 59s 8ms/step - loss: 8.0386 - acc: 0.4958 - val_loss: 7.9712 - val_acc: 0.5000\n",
      "Epoch 7/15\n",
      "7685/7685 [==============================] - 61s 8ms/step - loss: 8.0386 - acc: 0.4958 - val_loss: 7.9712 - val_acc: 0.5000\n",
      "Epoch 8/15\n",
      "7685/7685 [==============================] - 63s 8ms/step - loss: 8.0386 - acc: 0.4958 - val_loss: 7.9712 - val_acc: 0.5000\n",
      "Epoch 9/15\n",
      "7685/7685 [==============================] - 60s 8ms/step - loss: 8.0386 - acc: 0.4958 - val_loss: 7.9712 - val_acc: 0.5000\n",
      "Epoch 10/15\n",
      "7685/7685 [==============================] - 59s 8ms/step - loss: 8.0386 - acc: 0.4958 - val_loss: 7.9712 - val_acc: 0.5000\n",
      "Epoch 11/15\n",
      "7685/7685 [==============================] - 72s 9ms/step - loss: 8.0386 - acc: 0.4958 - val_loss: 7.9712 - val_acc: 0.5000\n",
      "Epoch 12/15\n",
      "7685/7685 [==============================] - 63s 8ms/step - loss: 8.0386 - acc: 0.4958 - val_loss: 7.9712 - val_acc: 0.5000\n",
      "Epoch 13/15\n",
      "7685/7685 [==============================] - 56s 7ms/step - loss: 8.0386 - acc: 0.4958 - val_loss: 7.9712 - val_acc: 0.5000\n",
      "Epoch 14/15\n",
      "7685/7685 [==============================] - 57s 7ms/step - loss: 8.0386 - acc: 0.4958 - val_loss: 7.9712 - val_acc: 0.5000\n",
      "Epoch 15/15\n",
      "7685/7685 [==============================] - 58s 8ms/step - loss: 8.0386 - acc: 0.4958 - val_loss: 7.9712 - val_acc: 0.5000\n",
      "Stored Results\n",
      "=============================================================================================================================\n",
      "Testing adam_01\n",
      "Train on 7685 samples, validate on 16 samples\n",
      "Epoch 1/15\n",
      "7685/7685 [==============================] - 63s 8ms/step - loss: 8.0386 - acc: 0.4958 - val_loss: 7.9712 - val_acc: 0.5000\n",
      "Epoch 2/15\n",
      "7685/7685 [==============================] - 55s 7ms/step - loss: 8.0386 - acc: 0.4958 - val_loss: 7.9712 - val_acc: 0.5000\n",
      "Epoch 3/15\n",
      "7685/7685 [==============================] - 54s 7ms/step - loss: 8.0386 - acc: 0.4958 - val_loss: 7.9712 - val_acc: 0.5000\n",
      "Epoch 4/15\n",
      "7685/7685 [==============================] - 53s 7ms/step - loss: 8.0386 - acc: 0.4958 - val_loss: 7.9712 - val_acc: 0.5000\n",
      "Epoch 5/15\n",
      "7685/7685 [==============================] - 58s 8ms/step - loss: 8.0386 - acc: 0.4958 - val_loss: 7.9712 - val_acc: 0.5000\n",
      "Epoch 6/15\n",
      "7685/7685 [==============================] - 52s 7ms/step - loss: 8.0386 - acc: 0.4958 - val_loss: 7.9712 - val_acc: 0.5000\n",
      "Epoch 7/15\n",
      "7685/7685 [==============================] - 55s 7ms/step - loss: 8.0386 - acc: 0.4958 - val_loss: 7.9712 - val_acc: 0.5000\n",
      "Epoch 8/15\n",
      "7685/7685 [==============================] - 53s 7ms/step - loss: 8.0386 - acc: 0.4958 - val_loss: 7.9712 - val_acc: 0.5000\n",
      "Epoch 9/15\n",
      "7685/7685 [==============================] - 51s 7ms/step - loss: 8.0386 - acc: 0.4958 - val_loss: 7.9712 - val_acc: 0.5000\n",
      "Epoch 10/15\n",
      "7685/7685 [==============================] - 53s 7ms/step - loss: 8.0386 - acc: 0.4958 - val_loss: 7.9712 - val_acc: 0.5000\n",
      "Epoch 11/15\n",
      "7685/7685 [==============================] - 53s 7ms/step - loss: 8.0386 - acc: 0.4958 - val_loss: 7.9712 - val_acc: 0.5000\n",
      "Epoch 12/15\n",
      "7685/7685 [==============================] - 52s 7ms/step - loss: 8.0386 - acc: 0.4958 - val_loss: 7.9712 - val_acc: 0.5000\n",
      "Epoch 13/15\n",
      "7685/7685 [==============================] - 51s 7ms/step - loss: 8.0386 - acc: 0.4958 - val_loss: 7.9712 - val_acc: 0.5000\n",
      "Epoch 14/15\n",
      "7685/7685 [==============================] - 53s 7ms/step - loss: 8.0386 - acc: 0.4958 - val_loss: 7.9712 - val_acc: 0.5000\n",
      "Epoch 15/15\n",
      "7685/7685 [==============================] - 63s 8ms/step - loss: 8.0386 - acc: 0.4958 - val_loss: 7.9712 - val_acc: 0.5000\n",
      "Stored Results\n",
      "=============================================================================================================================\n",
      "Testing sgd\n",
      "Train on 7685 samples, validate on 16 samples\n",
      "Epoch 1/15\n",
      "7685/7685 [==============================] - 59s 8ms/step - loss: 8.0386 - acc: 0.4958 - val_loss: 7.9712 - val_acc: 0.5000\n",
      "Epoch 2/15\n",
      "7685/7685 [==============================] - 55s 7ms/step - loss: 8.0386 - acc: 0.4958 - val_loss: 7.9712 - val_acc: 0.5000\n",
      "Epoch 3/15\n",
      "7685/7685 [==============================] - 57s 7ms/step - loss: 8.0386 - acc: 0.4958 - val_loss: 7.9712 - val_acc: 0.5000\n",
      "Epoch 4/15\n",
      "7685/7685 [==============================] - 57s 7ms/step - loss: 8.0386 - acc: 0.4958 - val_loss: 7.9712 - val_acc: 0.5000\n",
      "Epoch 5/15\n",
      "7685/7685 [==============================] - 54s 7ms/step - loss: 8.0386 - acc: 0.4958 - val_loss: 7.9712 - val_acc: 0.5000\n",
      "Epoch 6/15\n",
      "7685/7685 [==============================] - 72s 9ms/step - loss: 8.0386 - acc: 0.4958 - val_loss: 7.9712 - val_acc: 0.5000\n",
      "Epoch 7/15\n",
      "7685/7685 [==============================] - 63s 8ms/step - loss: 8.0386 - acc: 0.4958 - val_loss: 7.9712 - val_acc: 0.5000\n",
      "Epoch 8/15\n",
      "7685/7685 [==============================] - 59s 8ms/step - loss: 8.0386 - acc: 0.4958 - val_loss: 7.9712 - val_acc: 0.5000\n",
      "Epoch 9/15\n",
      "7685/7685 [==============================] - 59s 8ms/step - loss: 8.0386 - acc: 0.4958 - val_loss: 7.9712 - val_acc: 0.5000\n",
      "Epoch 10/15\n",
      "7685/7685 [==============================] - 103s 13ms/step - loss: 8.0386 - acc: 0.4958 - val_loss: 7.9712 - val_acc: 0.5000\n",
      "Epoch 11/15\n",
      "7685/7685 [==============================] - 85s 11ms/step - loss: 8.0386 - acc: 0.4958 - val_loss: 7.9712 - val_acc: 0.5000\n",
      "Epoch 12/15\n",
      "7685/7685 [==============================] - 60s 8ms/step - loss: 8.0386 - acc: 0.4958 - val_loss: 7.9712 - val_acc: 0.5000\n",
      "Epoch 13/15\n",
      "7685/7685 [==============================] - 48s 6ms/step - loss: 8.0386 - acc: 0.4958 - val_loss: 7.9712 - val_acc: 0.5000\n",
      "Epoch 14/15\n",
      "7685/7685 [==============================] - 47s 6ms/step - loss: 8.0386 - acc: 0.4958 - val_loss: 7.9712 - val_acc: 0.5000\n",
      "Epoch 15/15\n",
      "7685/7685 [==============================] - 49s 6ms/step - loss: 8.0386 - acc: 0.4958 - val_loss: 7.9712 - val_acc: 0.5000\n",
      "Stored Results\n",
      "=============================================================================================================================\n",
      "Testing adadelta\n",
      "Train on 7685 samples, validate on 16 samples\n",
      "Epoch 1/15\n",
      "7685/7685 [==============================] - 51s 7ms/step - loss: 8.0386 - acc: 0.4958 - val_loss: 7.9712 - val_acc: 0.5000\n",
      "Epoch 2/15\n",
      "7685/7685 [==============================] - 47s 6ms/step - loss: 8.0386 - acc: 0.4958 - val_loss: 7.9712 - val_acc: 0.5000\n",
      "Epoch 3/15\n",
      "7685/7685 [==============================] - 47s 6ms/step - loss: 8.0386 - acc: 0.4958 - val_loss: 7.9712 - val_acc: 0.5000\n",
      "Epoch 4/15\n",
      "7685/7685 [==============================] - 48s 6ms/step - loss: 8.0386 - acc: 0.4958 - val_loss: 7.9712 - val_acc: 0.5000\n",
      "Epoch 5/15\n",
      "7685/7685 [==============================] - 48s 6ms/step - loss: 8.0386 - acc: 0.4958 - val_loss: 7.9712 - val_acc: 0.5000\n",
      "Epoch 6/15\n",
      "7685/7685 [==============================] - 58s 8ms/step - loss: 8.0386 - acc: 0.4958 - val_loss: 7.9712 - val_acc: 0.5000\n",
      "Epoch 7/15\n",
      "7685/7685 [==============================] - 50s 6ms/step - loss: 8.0386 - acc: 0.4958 - val_loss: 7.9712 - val_acc: 0.5000\n",
      "Epoch 8/15\n",
      "7685/7685 [==============================] - 48s 6ms/step - loss: 8.0386 - acc: 0.4958 - val_loss: 7.9712 - val_acc: 0.5000\n",
      "Epoch 9/15\n",
      "7685/7685 [==============================] - 49s 6ms/step - loss: 8.0386 - acc: 0.4958 - val_loss: 7.9712 - val_acc: 0.5000\n",
      "Epoch 10/15\n",
      "7685/7685 [==============================] - 46s 6ms/step - loss: 8.0386 - acc: 0.4958 - val_loss: 7.9712 - val_acc: 0.5000\n",
      "Epoch 11/15\n",
      "7685/7685 [==============================] - 50s 7ms/step - loss: 8.0386 - acc: 0.4958 - val_loss: 7.9712 - val_acc: 0.5000\n",
      "Epoch 12/15\n",
      "7685/7685 [==============================] - 48s 6ms/step - loss: 8.0386 - acc: 0.4958 - val_loss: 7.9712 - val_acc: 0.5000\n",
      "Epoch 13/15\n",
      "7685/7685 [==============================] - 48s 6ms/step - loss: 8.0386 - acc: 0.4958 - val_loss: 7.9712 - val_acc: 0.5000\n",
      "Epoch 14/15\n",
      "7685/7685 [==============================] - 48s 6ms/step - loss: 8.0386 - acc: 0.4958 - val_loss: 7.9712 - val_acc: 0.5000\n",
      "Epoch 15/15\n",
      "7685/7685 [==============================] - 48s 6ms/step - loss: 8.0386 - acc: 0.4958 - val_loss: 7.9712 - val_acc: 0.5000\n",
      "Stored Results\n",
      "=============================================================================================================================\n",
      "Testing adagrad\n",
      "Train on 7685 samples, validate on 16 samples\n",
      "Epoch 1/15\n",
      "7685/7685 [==============================] - 49s 6ms/step - loss: 8.0386 - acc: 0.4958 - val_loss: 7.9712 - val_acc: 0.5000\n",
      "Epoch 2/15\n",
      "7685/7685 [==============================] - 49s 6ms/step - loss: 8.0386 - acc: 0.4958 - val_loss: 7.9712 - val_acc: 0.5000\n",
      "Epoch 3/15\n",
      "7685/7685 [==============================] - 46s 6ms/step - loss: 8.0386 - acc: 0.4958 - val_loss: 7.9712 - val_acc: 0.5000\n",
      "Epoch 4/15\n",
      "7685/7685 [==============================] - 52s 7ms/step - loss: 8.0386 - acc: 0.4958 - val_loss: 7.9712 - val_acc: 0.5000\n",
      "Epoch 5/15\n",
      "7685/7685 [==============================] - 48s 6ms/step - loss: 8.0386 - acc: 0.4958 - val_loss: 7.9712 - val_acc: 0.5000\n",
      "Epoch 6/15\n",
      "7685/7685 [==============================] - 49s 6ms/step - loss: 8.0386 - acc: 0.4958 - val_loss: 7.9712 - val_acc: 0.5000\n",
      "Epoch 7/15\n",
      "7685/7685 [==============================] - 52s 7ms/step - loss: 8.0386 - acc: 0.4958 - val_loss: 7.9712 - val_acc: 0.5000\n",
      "Epoch 8/15\n",
      "7685/7685 [==============================] - 49s 6ms/step - loss: 8.0386 - acc: 0.4958 - val_loss: 7.9712 - val_acc: 0.5000\n",
      "Epoch 9/15\n",
      "7685/7685 [==============================] - 47s 6ms/step - loss: 8.0386 - acc: 0.4958 - val_loss: 7.9712 - val_acc: 0.5000\n",
      "Epoch 10/15\n",
      "7685/7685 [==============================] - 59s 8ms/step - loss: 8.0386 - acc: 0.4958 - val_loss: 7.9712 - val_acc: 0.5000\n",
      "Epoch 11/15\n",
      "7685/7685 [==============================] - 47s 6ms/step - loss: 8.0386 - acc: 0.4958 - val_loss: 7.9712 - val_acc: 0.5000\n",
      "Epoch 12/15\n",
      "7685/7685 [==============================] - 47s 6ms/step - loss: 8.0386 - acc: 0.4958 - val_loss: 7.9712 - val_acc: 0.5000\n",
      "Epoch 13/15\n",
      "7685/7685 [==============================] - 59s 8ms/step - loss: 8.0386 - acc: 0.4958 - val_loss: 7.9712 - val_acc: 0.5000\n",
      "Epoch 14/15\n",
      "7685/7685 [==============================] - 49s 6ms/step - loss: 8.0386 - acc: 0.4958 - val_loss: 7.9712 - val_acc: 0.5000\n",
      "Epoch 15/15\n",
      "7685/7685 [==============================] - 49s 6ms/step - loss: 8.0386 - acc: 0.4958 - val_loss: 7.9712 - val_acc: 0.5000\n",
      "Stored Results\n",
      "=============================================================================================================================\n"
     ]
    }
   ],
   "source": [
    "# Iterate through the optimizer dictionary and compile the model with each optimizer\n",
    "for optimizer, d in optimizers.items():\n",
    "    print(f'Testing {optimizer}')\n",
    "    \n",
    "    # Build the CNN\n",
    "    # Convolution & Pooling\n",
    "    \n",
    "    model3 = Sequential()\n",
    "\n",
    "    \n",
    "    model3.add(layers.Conv2D(32, (3, 3), activation='relu', input_shape=(64, 64, 3)))\n",
    "    model3.add(layers.MaxPooling2D((2, 2)))\n",
    "    \n",
    "    model3.add(layers.Conv2D(32, (4, 4), activation='relu'))\n",
    "    model3.add(layers.MaxPooling2D((2, 2)))\n",
    "\n",
    "    model3.add(layers.Conv2D(64, (3, 3), activation='relu'))\n",
    "    model3.add(layers.MaxPooling2D((2,2)))\n",
    "\n",
    "    # Flattening\n",
    "    model3.add(layers.Flatten())\n",
    "    model3.add(layers.Dense(64, activation = 'relu'))\n",
    "    model3.add(layers.Dense(1, activation='softmax'))\n",
    "    \n",
    "    model3.compile(optimizer=d['optimizer'],loss='binary_crossentropy', metrics=['accuracy'])\n",
    "\n",
    "    \n",
    "    results3 = model3.fit(train_images, train_labels_final, epochs=15, batch_size=500, validation_data=(val_images, val_labels_final))\n",
    "\n",
    "    print(\"Stored Results\")\n",
    "    # d['loss'] = history.history['loss'] run this line\n",
    "    print('='*125)"
   ]
  },
  {
   "cell_type": "code",
   "execution_count": 198,
   "metadata": {},
   "outputs": [
    {
     "data": {
      "image/png": "[encoded data removed]",
      "text/plain": [
       "<Figure size 936x576 with 1 Axes>"
      ]
     },
     "metadata": {
      "needs_background": "light"
     },
     "output_type": "display_data"
    }
   ],
   "source": [
    "# Plot Training Loss\n",
    "plt.figure(figsize=(13, 8))\n",
    "plt.grid(linestyle='dashed')\n",
    "epochs = 15\n",
    "for optimizer, d in optimizers.items():\n",
    "    lss = results3.history['loss']\n",
    "    color = d['color']\n",
    "    plt.plot(range(1, epochs+1), lss, c=color, label=optimizer, linewidth=2)\n",
    "plt.legend()\n",
    "plt.show()"
   ]
  },
  {
   "cell_type": "code",
   "execution_count": 199,
   "metadata": {},
   "outputs": [
    {
     "data": {
      "image/png": "[encoded data removed]",
      "text/plain": [
       "<Figure size 936x576 with 1 Axes>"
      ]
     },
     "metadata": {
      "needs_background": "light"
     },
     "output_type": "display_data"
    }
   ],
   "source": [
    "# Plot Validation Loss\n",
    "plt.figure(figsize=(13, 8))\n",
    "plt.grid(linestyle='dashed')\n",
    "epochs = 15\n",
    "for optimizer, d in optimizers.items():\n",
    "    val_lss = results3.history['val_loss']\n",
    "    color = d['color']\n",
    "    plt.plot(range(1, epochs+1), val_lss, c=color, label=optimizer, linewidth=2)\n",
    "plt.legend()\n",
    "plt.show()"
   ]
  },
  {
   "cell_type": "code",
   "execution_count": 200,
   "metadata": {},
   "outputs": [
    {
     "name": "stdout",
     "output_type": "stream",
     "text": [
      "7685/7685 [==============================] - 44s 6ms/step\n"
     ]
    },
    {
     "data": {
      "text/plain": [
       "[8.03861348518863, 0.4957709824488236]"
      ]
     },
     "execution_count": 200,
     "metadata": {},
     "output_type": "execute_result"
    }
   ],
   "source": [
    "model3.evaluate(train_images, train_labels_final)"
   ]
  },
  {
   "cell_type": "code",
   "execution_count": 201,
   "metadata": {},
   "outputs": [
    {
     "name": "stdout",
     "output_type": "stream",
     "text": [
      "\r",
      "16/16 [==============================] - 0s 5ms/step\n"
     ]
    },
    {
     "data": {
      "text/plain": [
       "[7.971192359924316, 0.5]"
      ]
     },
     "execution_count": 201,
     "metadata": {},
     "output_type": "execute_result"
    }
   ],
   "source": [
    "model3.evaluate(val_images, val_labels_final)"
   ]
  },
  {
   "cell_type": "code",
   "execution_count": 202,
   "metadata": {},
   "outputs": [],
   "source": [
    "preds3 = model3.predict(val_images)"
   ]
  },
  {
   "cell_type": "code",
   "execution_count": 209,
   "metadata": {},
   "outputs": [
    {
     "data": {
      "image/png": "[encoded data removed]",
      "text/plain": [
       "<Figure size 432x288 with 2 Axes>"
      ]
     },
     "metadata": {
      "needs_background": "light"
     },
     "output_type": "display_data"
    }
   ],
   "source": [
    "plot_confusion_matrix(val_labels_final, preds3)"
   ]
  },
  {
   "cell_type": "markdown",
   "metadata": {},
   "source": [
    "# Model 4: L1 & L2 Regularizers on Best Model. Add Greyscale to Data Generator"
   ]
  },
  {
   "cell_type": "code",
   "execution_count": 22,
   "metadata": {},
   "outputs": [
    {
     "name": "stdout",
     "output_type": "stream",
     "text": [
      "Found 7685 images belonging to 2 classes.\n"
     ]
    }
   ],
   "source": [
    "train_gen = ImageDataGenerator(rescale=1./255).flow_from_directory(train_dir,\n",
    "                                                          target_size = (64, 64), batch_size= 7685, color_mode='grayscale')                                                          "
   ]
  },
  {
   "cell_type": "code",
   "execution_count": 23,
   "metadata": {},
   "outputs": [
    {
     "name": "stdout",
     "output_type": "stream",
     "text": [
      "Found 16 images belonging to 2 classes.\n"
     ]
    }
   ],
   "source": [
    "val_gen = ImageDataGenerator(rescale=1./255).flow_from_directory(val_dir,\n",
    "                                                target_size = (64, 64), batch_size= 16, color_mode='grayscale')                                      \n",
    "\n"
   ]
  },
  {
   "cell_type": "code",
   "execution_count": 24,
   "metadata": {},
   "outputs": [
    {
     "name": "stdout",
     "output_type": "stream",
     "text": [
      "Found 624 images belonging to 2 classes.\n"
     ]
    }
   ],
   "source": [
    "test_gen = ImageDataGenerator(rescale=1./255).flow_from_directory(test_dir,\n",
    "                                                target_size = (64, 64), batch_size= 624, color_mode='grayscale')                                      \n",
    "\n",
    "\n"
   ]
  },
  {
   "cell_type": "code",
   "execution_count": 25,
   "metadata": {},
   "outputs": [],
   "source": [
    "train_imgs, train_lbls = next(train_gen)"
   ]
  },
  {
   "cell_type": "code",
   "execution_count": 26,
   "metadata": {},
   "outputs": [],
   "source": [
    "val_imgs, val_lbls = next(val_gen)"
   ]
  },
  {
   "cell_type": "code",
   "execution_count": 27,
   "metadata": {},
   "outputs": [],
   "source": [
    "test_imgs, test_lbls = next(test_gen)"
   ]
  },
  {
   "cell_type": "code",
   "execution_count": 142,
   "metadata": {},
   "outputs": [
    {
     "name": "stdout",
     "output_type": "stream",
     "text": [
      "Shape of Train Images:  (7685, 64, 64, 1)\n",
      "Shape of Train Labels:  (7685, 2)\n",
      "Shape of Validation Images:  (16, 64, 64, 1)\n",
      "Shape of Validation Labels:  (16, 2)\n",
      "Shape of Test Images:  (624, 64, 64, 1)\n",
      "Shape of Test Labels:  (624, 2)\n"
     ]
    }
   ],
   "source": [
    "print('Shape of Train Images: ', np.shape(train_imgs))\n",
    "print('Shape of Train Labels: ', np.shape(train_lbls))\n",
    "print('Shape of Validation Images: ', np.shape(val_imgs))\n",
    "print('Shape of Validation Labels: ', np.shape(val_lbls))\n",
    "print('Shape of Test Images: ', np.shape(test_imgs))\n",
    "print('Shape of Test Labels: ', np.shape(test_lbls))"
   ]
  },
  {
   "cell_type": "code",
   "execution_count": 28,
   "metadata": {},
   "outputs": [
    {
     "data": {
      "text/plain": [
       "(7685, 1)"
      ]
     },
     "execution_count": 28,
     "metadata": {},
     "output_type": "execute_result"
    }
   ],
   "source": [
    "train_lbls_final = np.reshape(train_lbls[:,0], (7685,1))\n",
    "np.shape(train_lbls_final)"
   ]
  },
  {
   "cell_type": "code",
   "execution_count": 145,
   "metadata": {},
   "outputs": [
    {
     "data": {
      "text/plain": [
       "(16, 1)"
      ]
     },
     "execution_count": 145,
     "metadata": {},
     "output_type": "execute_result"
    }
   ],
   "source": [
    "val_lbls_final = np.reshape(val_lbls[:,0], (16,1))\n",
    "np.shape(val_lbls_final)"
   ]
  },
  {
   "cell_type": "code",
   "execution_count": 146,
   "metadata": {},
   "outputs": [
    {
     "data": {
      "text/plain": [
       "(624, 1)"
      ]
     },
     "execution_count": 146,
     "metadata": {},
     "output_type": "execute_result"
    }
   ],
   "source": [
    "test_lbls_final = np.reshape(test_lbls[:,0], (624,1))\n",
    "np.shape(test_lbls_final)"
   ]
  },
  {
   "cell_type": "code",
   "execution_count": 150,
   "metadata": {},
   "outputs": [
    {
     "name": "stdout",
     "output_type": "stream",
     "text": [
      "Testing RMSprop\n",
      "Train on 7685 samples, validate on 16 samples\n",
      "Epoch 1/11\n",
      "7685/7685 [==============================] - 52s 7ms/step - loss: 9.1032 - acc: 0.4958 - val_loss: 8.4972 - val_acc: 0.5000\n",
      "Epoch 2/11\n",
      "7685/7685 [==============================] - 48s 6ms/step - loss: 8.3767 - acc: 0.4958 - val_loss: 8.1451 - val_acc: 0.5000\n",
      "Epoch 3/11\n",
      "7685/7685 [==============================] - 54s 7ms/step - loss: 8.1451 - acc: 0.4958 - val_loss: 8.0209 - val_acc: 0.5000\n",
      "Epoch 4/11\n",
      "7685/7685 [==============================] - 52s 7ms/step - loss: 8.0673 - acc: 0.4958 - val_loss: 7.9828 - val_acc: 0.5000\n",
      "Epoch 5/11\n",
      "7685/7685 [==============================] - 50s 7ms/step - loss: 8.0444 - acc: 0.4958 - val_loss: 7.9728 - val_acc: 0.5000\n",
      "Epoch 6/11\n",
      "7685/7685 [==============================] - 48s 6ms/step - loss: 8.0393 - acc: 0.4958 - val_loss: 7.9714 - val_acc: 0.5000\n",
      "Epoch 7/11\n",
      "7685/7685 [==============================] - 48s 6ms/step - loss: 8.0388 - acc: 0.4958 - val_loss: 7.9715 - val_acc: 0.5000\n",
      "Epoch 8/11\n",
      "7685/7685 [==============================] - 52s 7ms/step - loss: 8.0389 - acc: 0.4958 - val_loss: 7.9716 - val_acc: 0.5000\n",
      "Epoch 9/11\n",
      "7685/7685 [==============================] - 60s 8ms/step - loss: 8.0390 - acc: 0.4958 - val_loss: 7.9717 - val_acc: 0.5000\n",
      "Epoch 10/11\n",
      "7685/7685 [==============================] - 61s 8ms/step - loss: 8.0390 - acc: 0.4958 - val_loss: 7.9716 - val_acc: 0.5000\n",
      "Epoch 11/11\n",
      "7685/7685 [==============================] - 49s 6ms/step - loss: 8.0391 - acc: 0.4958 - val_loss: 7.9717 - val_acc: 0.5000\n",
      "=============================================================================================================================\n",
      "Testing adam_01\n",
      "Train on 7685 samples, validate on 16 samples\n",
      "Epoch 1/11\n",
      "7685/7685 [==============================] - 59s 8ms/step - loss: 8.5441 - acc: 0.4958 - val_loss: 8.1147 - val_acc: 0.5000\n",
      "Epoch 2/11\n",
      "7685/7685 [==============================] - 55s 7ms/step - loss: 8.1208 - acc: 0.4958 - val_loss: 7.9945 - val_acc: 0.5000\n",
      "Epoch 3/11\n",
      "7685/7685 [==============================] - 52s 7ms/step - loss: 8.0536 - acc: 0.4958 - val_loss: 7.9764 - val_acc: 0.5000\n",
      "Epoch 4/11\n",
      "7685/7685 [==============================] - 66s 9ms/step - loss: 8.0415 - acc: 0.4958 - val_loss: 7.9722 - val_acc: 0.5000\n",
      "Epoch 5/11\n",
      "7685/7685 [==============================] - 52s 7ms/step - loss: 8.0392 - acc: 0.4958 - val_loss: 7.9714 - val_acc: 0.5000\n",
      "Epoch 6/11\n",
      "7685/7685 [==============================] - 51s 7ms/step - loss: 8.0387 - acc: 0.4958 - val_loss: 7.9712 - val_acc: 0.5000\n",
      "Epoch 7/11\n",
      "7685/7685 [==============================] - 47s 6ms/step - loss: 8.0386 - acc: 0.4958 - val_loss: 7.9712 - val_acc: 0.5000\n",
      "Epoch 8/11\n",
      "7685/7685 [==============================] - 51s 7ms/step - loss: 8.0386 - acc: 0.4958 - val_loss: 7.9712 - val_acc: 0.5000\n",
      "Epoch 9/11\n",
      "7685/7685 [==============================] - 48s 6ms/step - loss: 8.0386 - acc: 0.4958 - val_loss: 7.9712 - val_acc: 0.5000\n",
      "Epoch 10/11\n",
      "7685/7685 [==============================] - 46s 6ms/step - loss: 8.0386 - acc: 0.4958 - val_loss: 7.9712 - val_acc: 0.5000\n",
      "Epoch 11/11\n",
      "7685/7685 [==============================] - 49s 6ms/step - loss: 8.0386 - acc: 0.4958 - val_loss: 7.9712 - val_acc: 0.5000\n",
      "=============================================================================================================================\n",
      "Testing sgd\n",
      "Train on 7685 samples, validate on 16 samples\n",
      "Epoch 1/11\n",
      "7685/7685 [==============================] - 48s 6ms/step - loss: 10.0221 - acc: 0.4958 - val_loss: 9.9477 - val_acc: 0.5000\n",
      "Epoch 2/11\n",
      "7685/7685 [==============================] - 46s 6ms/step - loss: 10.0094 - acc: 0.4958 - val_loss: 9.9351 - val_acc: 0.5000\n",
      "Epoch 3/11\n",
      "7685/7685 [==============================] - 57s 7ms/step - loss: 9.9968 - acc: 0.4958 - val_loss: 9.9225 - val_acc: 0.5000\n",
      "Epoch 4/11\n",
      "7685/7685 [==============================] - 49s 6ms/step - loss: 9.9843 - acc: 0.4958 - val_loss: 9.9101 - val_acc: 0.5000\n",
      "Epoch 5/11\n",
      "7685/7685 [==============================] - 52s 7ms/step - loss: 9.9719 - acc: 0.4958 - val_loss: 9.8977 - val_acc: 0.5000\n",
      "Epoch 6/11\n",
      "7685/7685 [==============================] - 46s 6ms/step - loss: 9.9596 - acc: 0.4958 - val_loss: 9.8854 - val_acc: 0.5000\n",
      "Epoch 7/11\n",
      "7685/7685 [==============================] - 48s 6ms/step - loss: 9.9473 - acc: 0.4958 - val_loss: 9.8732 - val_acc: 0.5000\n",
      "Epoch 8/11\n",
      "7685/7685 [==============================] - 46s 6ms/step - loss: 9.9352 - acc: 0.4958 - val_loss: 9.8611 - val_acc: 0.5000\n",
      "Epoch 9/11\n",
      "7685/7685 [==============================] - 47s 6ms/step - loss: 9.9231 - acc: 0.4958 - val_loss: 9.8490 - val_acc: 0.5000\n",
      "Epoch 10/11\n",
      "7685/7685 [==============================] - 47s 6ms/step - loss: 9.9110 - acc: 0.4958 - val_loss: 9.8370 - val_acc: 0.5000\n",
      "Epoch 11/11\n",
      "7685/7685 [==============================] - 47s 6ms/step - loss: 9.8991 - acc: 0.4958 - val_loss: 9.8251 - val_acc: 0.5000\n",
      "=============================================================================================================================\n",
      "Testing adadelta\n",
      "Train on 7685 samples, validate on 16 samples\n",
      "Epoch 1/11\n",
      "7685/7685 [==============================] - 47s 6ms/step - loss: 9.6075 - acc: 0.4958 - val_loss: 9.1082 - val_acc: 0.5000\n",
      "Epoch 2/11\n",
      "7685/7685 [==============================] - 46s 6ms/step - loss: 8.9278 - acc: 0.4958 - val_loss: 8.6092 - val_acc: 0.5000\n",
      "Epoch 3/11\n",
      "7685/7685 [==============================] - 45s 6ms/step - loss: 8.5351 - acc: 0.4958 - val_loss: 8.3251 - val_acc: 0.5000\n",
      "Epoch 4/11\n",
      "7685/7685 [==============================] - 47s 6ms/step - loss: 8.3130 - acc: 0.4958 - val_loss: 8.1657 - val_acc: 0.5000\n",
      "Epoch 5/11\n",
      "7685/7685 [==============================] - 47s 6ms/step - loss: 8.1889 - acc: 0.4958 - val_loss: 8.0771 - val_acc: 0.5000\n",
      "Epoch 6/11\n",
      "7685/7685 [==============================] - 46s 6ms/step - loss: 8.1202 - acc: 0.4958 - val_loss: 8.0284 - val_acc: 0.5000\n",
      "Epoch 7/11\n",
      "7685/7685 [==============================] - 46s 6ms/step - loss: 8.0825 - acc: 0.4958 - val_loss: 8.0018 - val_acc: 0.5000\n",
      "Epoch 8/11\n",
      "7685/7685 [==============================] - 45s 6ms/step - loss: 8.0620 - acc: 0.4958 - val_loss: 7.9875 - val_acc: 0.5000\n",
      "Epoch 9/11\n",
      "7685/7685 [==============================] - 46s 6ms/step - loss: 8.0510 - acc: 0.4958 - val_loss: 7.9798 - val_acc: 0.5000\n",
      "Epoch 10/11\n",
      "7685/7685 [==============================] - 63s 8ms/step - loss: 8.0452 - acc: 0.4958 - val_loss: 7.9757 - val_acc: 0.5000\n",
      "Epoch 11/11\n",
      "7685/7685 [==============================] - 61s 8ms/step - loss: 8.0421 - acc: 0.4958 - val_loss: 7.9736 - val_acc: 0.5000\n",
      "=============================================================================================================================\n",
      "Testing adagrad\n",
      "Train on 7685 samples, validate on 16 samples\n",
      "Epoch 1/11\n",
      "7685/7685 [==============================] - 58s 8ms/step - loss: 8.4604 - acc: 0.4958 - val_loss: 8.0155 - val_acc: 0.5000\n",
      "Epoch 2/11\n",
      "7685/7685 [==============================] - 48s 6ms/step - loss: 8.0584 - acc: 0.4958 - val_loss: 7.9768 - val_acc: 0.5000\n",
      "Epoch 3/11\n",
      "7685/7685 [==============================] - 68s 9ms/step - loss: 8.0414 - acc: 0.4958 - val_loss: 7.9721 - val_acc: 0.5000\n",
      "Epoch 4/11\n",
      "7685/7685 [==============================] - 50s 7ms/step - loss: 8.0391 - acc: 0.4958 - val_loss: 7.9714 - val_acc: 0.5000\n",
      "Epoch 5/11\n",
      "7685/7685 [==============================] - 60s 8ms/step - loss: 8.0387 - acc: 0.4958 - val_loss: 7.9712 - val_acc: 0.5000\n",
      "Epoch 6/11\n",
      "7685/7685 [==============================] - 54s 7ms/step - loss: 8.0386 - acc: 0.4958 - val_loss: 7.9712 - val_acc: 0.5000\n",
      "Epoch 7/11\n",
      "7685/7685 [==============================] - 53s 7ms/step - loss: 8.0386 - acc: 0.4958 - val_loss: 7.9712 - val_acc: 0.5000\n",
      "Epoch 8/11\n",
      "7685/7685 [==============================] - 58s 8ms/step - loss: 8.0386 - acc: 0.4958 - val_loss: 7.9712 - val_acc: 0.5000\n",
      "Epoch 9/11\n",
      "7685/7685 [==============================] - 54s 7ms/step - loss: 8.0386 - acc: 0.4958 - val_loss: 7.9712 - val_acc: 0.5000\n",
      "Epoch 10/11\n",
      "7685/7685 [==============================] - 50s 6ms/step - loss: 8.0386 - acc: 0.4958 - val_loss: 7.9712 - val_acc: 0.5000\n",
      "Epoch 11/11\n",
      "7685/7685 [==============================] - 55s 7ms/step - loss: 8.0386 - acc: 0.4958 - val_loss: 7.9712 - val_acc: 0.5000\n",
      "=============================================================================================================================\n"
     ]
    }
   ],
   "source": [
    "for optimizer, d in optimizers.items():\n",
    "    print(f'Testing {optimizer}')\n",
    "\n",
    "    # Build the CNN\n",
    "\n",
    "    # Convolution & Pooling\n",
    "    model4 = Sequential()\n",
    "     # Test out a tanh activation function\n",
    "    model4.add(layers.Conv2D(32, (3, 3), activation='tanh', input_shape=(64, 64, 3)))\n",
    "    model4.add(layers.MaxPooling2D((2, 2)))\n",
    "    \n",
    "    # Add an L2 Regularization to these layers\n",
    "    model4.add(layers.Conv2D(32, (4, 4), activation='tanh', kernel_regularizer=regularizers.l2(l=0.01)))\n",
    "    model4.add(layers.MaxPooling2D((2, 2)))\n",
    "\n",
    "    model4.add(layers.Conv2D(64, (3, 3), activation='tanh', kernel_regularizer=regularizers.l2(l=0.01)))\n",
    "    model4.add(layers.MaxPooling2D((2,2)))\n",
    "\n",
    "    # Flattening\n",
    "    model4.add(layers.Flatten())\n",
    "    model4.add(layers.Dense(64, activation = 'tanh', kernel_regularizer=regularizers.l2(l=0.01)))\n",
    "    model4.add(layers.Dense(1, activation='softmax'))\n",
    "\n",
    "    \n",
    "    model4.compile(optimizer=d['optimizer'],loss='binary_crossentropy', metrics=['accuracy'])\n",
    "\n",
    "    \n",
    "    results4 = model4.fit(train_images, train_labels_final, epochs=11, batch_size=500, validation_data=(val_images, val_labels_final))\n",
    "# Add a partition to separate the results\n",
    "    print('='*125)"
   ]
  },
  {
   "cell_type": "code",
   "execution_count": 204,
   "metadata": {},
   "outputs": [
    {
     "data": {
      "image/png": "[encoded data removed]",
      "text/plain": [
       "<Figure size 432x288 with 1 Axes>"
      ]
     },
     "metadata": {
      "needs_background": "light"
     },
     "output_type": "display_data"
    },
    {
     "data": {
      "image/png": "[encoded data removed]",
      "text/plain": [
       "<Figure size 432x288 with 1 Axes>"
      ]
     },
     "metadata": {
      "needs_background": "light"
     },
     "output_type": "display_data"
    }
   ],
   "source": [
    "visualize_training_results(results4)"
   ]
  },
  {
   "cell_type": "markdown",
   "metadata": {},
   "source": [
    "Here the loss converges which is what we want, however the training and validation accuracy does not converge. The model has a high bias and low variance."
   ]
  },
  {
   "cell_type": "code",
   "execution_count": 205,
   "metadata": {},
   "outputs": [
    {
     "name": "stdout",
     "output_type": "stream",
     "text": [
      "7685/7685 [==============================] - 27s 4ms/step\n"
     ]
    },
    {
     "data": {
      "text/plain": [
       "[8.03861348518863, 0.4957709824488236]"
      ]
     },
     "execution_count": 205,
     "metadata": {},
     "output_type": "execute_result"
    }
   ],
   "source": [
    "model4.evaluate(train_images, train_labels_final)"
   ]
  },
  {
   "cell_type": "code",
   "execution_count": 206,
   "metadata": {},
   "outputs": [
    {
     "name": "stdout",
     "output_type": "stream",
     "text": [
      "\r",
      "16/16 [==============================] - 0s 9ms/step\n"
     ]
    },
    {
     "data": {
      "text/plain": [
       "[7.971192359924316, 0.5]"
      ]
     },
     "execution_count": 206,
     "metadata": {},
     "output_type": "execute_result"
    }
   ],
   "source": [
    "model4.evaluate(val_images, val_labels_final)"
   ]
  },
  {
   "cell_type": "code",
   "execution_count": 207,
   "metadata": {},
   "outputs": [],
   "source": [
    "preds4 = model4.predict(val_images)"
   ]
  },
  {
   "cell_type": "code",
   "execution_count": 210,
   "metadata": {},
   "outputs": [
    {
     "data": {
      "image/png": "[encoded data removed]",
      "text/plain": [
       "<Figure size 432x288 with 2 Axes>"
      ]
     },
     "metadata": {
      "needs_background": "light"
     },
     "output_type": "display_data"
    }
   ],
   "source": [
    "plot_confusion_matrix(val_labels_final, preds4)"
   ]
  },
  {
   "cell_type": "markdown",
   "metadata": {},
   "source": [
    "# Model 5: Try Increasing Batch Size and Decreasing Learning Rate early stopping"
   ]
  },
  {
   "cell_type": "code",
   "execution_count": 158,
   "metadata": {},
   "outputs": [
    {
     "name": "stdout",
     "output_type": "stream",
     "text": [
      "Train on 7685 samples, validate on 16 samples\n",
      "Epoch 1/15\n",
      "7685/7685 [==============================] - 75s 10ms/step - loss: 8.7736 - acc: 0.4958 - val_loss: 8.0791 - val_acc: 0.5000\n",
      "Epoch 2/15\n",
      "7685/7685 [==============================] - 58s 8ms/step - loss: 8.1469 - acc: 0.4958 - val_loss: 8.0424 - val_acc: 0.5000\n",
      "Epoch 3/15\n",
      "7685/7685 [==============================] - 57s 7ms/step - loss: 8.0808 - acc: 0.4958 - val_loss: 7.9937 - val_acc: 0.5000\n",
      "Epoch 4/15\n",
      "7685/7685 [==============================] - 60s 8ms/step - loss: 8.0532 - acc: 0.4958 - val_loss: 7.9768 - val_acc: 0.5000\n",
      "Epoch 5/15\n",
      "7685/7685 [==============================] - 79s 10ms/step - loss: 8.0428 - acc: 0.4958 - val_loss: 7.9740 - val_acc: 0.5000\n",
      "Epoch 6/15\n",
      "7685/7685 [==============================] - 56s 7ms/step - loss: 8.0402 - acc: 0.4958 - val_loss: 7.9718 - val_acc: 0.5000\n",
      "Epoch 7/15\n",
      "7685/7685 [==============================] - 59s 8ms/step - loss: 8.0391 - acc: 0.4958 - val_loss: 7.9714 - val_acc: 0.5000\n",
      "Epoch 8/15\n",
      "7685/7685 [==============================] - 58s 8ms/step - loss: 8.0388 - acc: 0.4958 - val_loss: 7.9713 - val_acc: 0.5000\n",
      "Epoch 9/15\n",
      "7685/7685 [==============================] - 56s 7ms/step - loss: 8.0387 - acc: 0.4958 - val_loss: 7.9712 - val_acc: 0.5000\n",
      "Epoch 10/15\n",
      "7685/7685 [==============================] - 62s 8ms/step - loss: 8.0386 - acc: 0.4958 - val_loss: 7.9712 - val_acc: 0.5000\n",
      "Epoch 11/15\n",
      "7685/7685 [==============================] - 55s 7ms/step - loss: 8.0386 - acc: 0.4958 - val_loss: 7.9712 - val_acc: 0.5000\n",
      "Epoch 12/15\n",
      "2250/7685 [=======>......................] - ETA: 38s - loss: 8.1200 - acc: 0.4907"
     ]
    },
    {
     "ename": "KeyboardInterrupt",
     "evalue": "",
     "output_type": "error",
     "traceback": [
      "\u001b[0;31m---------------------------------------------------------------------------\u001b[0m",
      "\u001b[0;31mKeyboardInterrupt\u001b[0m                         Traceback (most recent call last)",
      "\u001b[0;32m<ipython-input-158-0bd6cebdc7ff>\u001b[0m in \u001b[0;36m<module>\u001b[0;34m\u001b[0m\n\u001b[1;32m     22\u001b[0m \u001b[0;34m\u001b[0m\u001b[0m\n\u001b[1;32m     23\u001b[0m \u001b[0;34m\u001b[0m\u001b[0m\n\u001b[0;32m---> 24\u001b[0;31m \u001b[0mresults5\u001b[0m \u001b[0;34m=\u001b[0m \u001b[0mmodel5\u001b[0m\u001b[0;34m.\u001b[0m\u001b[0mfit\u001b[0m\u001b[0;34m(\u001b[0m\u001b[0mtrain_images\u001b[0m\u001b[0;34m,\u001b[0m \u001b[0mtrain_labels_final\u001b[0m\u001b[0;34m,\u001b[0m \u001b[0mepochs\u001b[0m\u001b[0;34m=\u001b[0m\u001b[0;36m15\u001b[0m\u001b[0;34m,\u001b[0m \u001b[0mbatch_size\u001b[0m\u001b[0;34m=\u001b[0m\u001b[0;36m750\u001b[0m\u001b[0;34m,\u001b[0m \u001b[0mvalidation_data\u001b[0m\u001b[0;34m=\u001b[0m\u001b[0;34m(\u001b[0m\u001b[0mval_images\u001b[0m\u001b[0;34m,\u001b[0m \u001b[0mval_labels_final\u001b[0m\u001b[0;34m)\u001b[0m\u001b[0;34m)\u001b[0m\u001b[0;34m\u001b[0m\u001b[0;34m\u001b[0m\u001b[0m\n\u001b[0m\u001b[1;32m     25\u001b[0m \u001b[0;34m\u001b[0m\u001b[0m\n\u001b[1;32m     26\u001b[0m \u001b[0mprint\u001b[0m\u001b[0;34m(\u001b[0m\u001b[0;34m'='\u001b[0m\u001b[0;34m*\u001b[0m\u001b[0;36m120\u001b[0m\u001b[0;34m)\u001b[0m\u001b[0;34m\u001b[0m\u001b[0;34m\u001b[0m\u001b[0m\n",
      "\u001b[0;32m/Applications/anaconda3/envs/learn-env/lib/python3.6/site-packages/keras/engine/training.py\u001b[0m in \u001b[0;36mfit\u001b[0;34m(self, x, y, batch_size, epochs, verbose, callbacks, validation_split, validation_data, shuffle, class_weight, sample_weight, initial_epoch, steps_per_epoch, validation_steps, **kwargs)\u001b[0m\n\u001b[1;32m   1037\u001b[0m                                         \u001b[0minitial_epoch\u001b[0m\u001b[0;34m=\u001b[0m\u001b[0minitial_epoch\u001b[0m\u001b[0;34m,\u001b[0m\u001b[0;34m\u001b[0m\u001b[0;34m\u001b[0m\u001b[0m\n\u001b[1;32m   1038\u001b[0m                                         \u001b[0msteps_per_epoch\u001b[0m\u001b[0;34m=\u001b[0m\u001b[0msteps_per_epoch\u001b[0m\u001b[0;34m,\u001b[0m\u001b[0;34m\u001b[0m\u001b[0;34m\u001b[0m\u001b[0m\n\u001b[0;32m-> 1039\u001b[0;31m                                         validation_steps=validation_steps)\n\u001b[0m\u001b[1;32m   1040\u001b[0m \u001b[0;34m\u001b[0m\u001b[0m\n\u001b[1;32m   1041\u001b[0m     def evaluate(self, x=None, y=None,\n",
      "\u001b[0;32m/Applications/anaconda3/envs/learn-env/lib/python3.6/site-packages/keras/engine/training_arrays.py\u001b[0m in \u001b[0;36mfit_loop\u001b[0;34m(model, f, ins, out_labels, batch_size, epochs, verbose, callbacks, val_f, val_ins, shuffle, callback_metrics, initial_epoch, steps_per_epoch, validation_steps)\u001b[0m\n\u001b[1;32m    197\u001b[0m                     \u001b[0mins_batch\u001b[0m\u001b[0;34m[\u001b[0m\u001b[0mi\u001b[0m\u001b[0;34m]\u001b[0m \u001b[0;34m=\u001b[0m \u001b[0mins_batch\u001b[0m\u001b[0;34m[\u001b[0m\u001b[0mi\u001b[0m\u001b[0;34m]\u001b[0m\u001b[0;34m.\u001b[0m\u001b[0mtoarray\u001b[0m\u001b[0;34m(\u001b[0m\u001b[0;34m)\u001b[0m\u001b[0;34m\u001b[0m\u001b[0;34m\u001b[0m\u001b[0m\n\u001b[1;32m    198\u001b[0m \u001b[0;34m\u001b[0m\u001b[0m\n\u001b[0;32m--> 199\u001b[0;31m                 \u001b[0mouts\u001b[0m \u001b[0;34m=\u001b[0m \u001b[0mf\u001b[0m\u001b[0;34m(\u001b[0m\u001b[0mins_batch\u001b[0m\u001b[0;34m)\u001b[0m\u001b[0;34m\u001b[0m\u001b[0;34m\u001b[0m\u001b[0m\n\u001b[0m\u001b[1;32m    200\u001b[0m                 \u001b[0mouts\u001b[0m \u001b[0;34m=\u001b[0m \u001b[0mto_list\u001b[0m\u001b[0;34m(\u001b[0m\u001b[0mouts\u001b[0m\u001b[0;34m)\u001b[0m\u001b[0;34m\u001b[0m\u001b[0;34m\u001b[0m\u001b[0m\n\u001b[1;32m    201\u001b[0m                 \u001b[0;32mfor\u001b[0m \u001b[0ml\u001b[0m\u001b[0;34m,\u001b[0m \u001b[0mo\u001b[0m \u001b[0;32min\u001b[0m \u001b[0mzip\u001b[0m\u001b[0;34m(\u001b[0m\u001b[0mout_labels\u001b[0m\u001b[0;34m,\u001b[0m \u001b[0mouts\u001b[0m\u001b[0;34m)\u001b[0m\u001b[0;34m:\u001b[0m\u001b[0;34m\u001b[0m\u001b[0;34m\u001b[0m\u001b[0m\n",
      "\u001b[0;32m/Applications/anaconda3/envs/learn-env/lib/python3.6/site-packages/keras/backend/tensorflow_backend.py\u001b[0m in \u001b[0;36m__call__\u001b[0;34m(self, inputs)\u001b[0m\n\u001b[1;32m   2719\u001b[0m                     \u001b[0;34m'In order to feed symbolic tensors to a Keras model '\u001b[0m\u001b[0;34m\u001b[0m\u001b[0;34m\u001b[0m\u001b[0m\n\u001b[1;32m   2720\u001b[0m                     'in TensorFlow, you need tensorflow 1.8 or higher.')\n\u001b[0;32m-> 2721\u001b[0;31m             \u001b[0;32mreturn\u001b[0m \u001b[0mself\u001b[0m\u001b[0;34m.\u001b[0m\u001b[0m_legacy_call\u001b[0m\u001b[0;34m(\u001b[0m\u001b[0minputs\u001b[0m\u001b[0;34m)\u001b[0m\u001b[0;34m\u001b[0m\u001b[0;34m\u001b[0m\u001b[0m\n\u001b[0m\u001b[1;32m   2722\u001b[0m \u001b[0;34m\u001b[0m\u001b[0m\n\u001b[1;32m   2723\u001b[0m \u001b[0;34m\u001b[0m\u001b[0m\n",
      "\u001b[0;32m/Applications/anaconda3/envs/learn-env/lib/python3.6/site-packages/keras/backend/tensorflow_backend.py\u001b[0m in \u001b[0;36m_legacy_call\u001b[0;34m(self, inputs)\u001b[0m\n\u001b[1;32m   2691\u001b[0m         \u001b[0msession\u001b[0m \u001b[0;34m=\u001b[0m \u001b[0mget_session\u001b[0m\u001b[0;34m(\u001b[0m\u001b[0;34m)\u001b[0m\u001b[0;34m\u001b[0m\u001b[0;34m\u001b[0m\u001b[0m\n\u001b[1;32m   2692\u001b[0m         updated = session.run(fetches=fetches, feed_dict=feed_dict,\n\u001b[0;32m-> 2693\u001b[0;31m                               **self.session_kwargs)\n\u001b[0m\u001b[1;32m   2694\u001b[0m         \u001b[0;32mreturn\u001b[0m \u001b[0mupdated\u001b[0m\u001b[0;34m[\u001b[0m\u001b[0;34m:\u001b[0m\u001b[0mlen\u001b[0m\u001b[0;34m(\u001b[0m\u001b[0mself\u001b[0m\u001b[0;34m.\u001b[0m\u001b[0moutputs\u001b[0m\u001b[0;34m)\u001b[0m\u001b[0;34m]\u001b[0m\u001b[0;34m\u001b[0m\u001b[0;34m\u001b[0m\u001b[0m\n\u001b[1;32m   2695\u001b[0m \u001b[0;34m\u001b[0m\u001b[0m\n",
      "\u001b[0;32m/Applications/anaconda3/envs/learn-env/lib/python3.6/site-packages/tensorflow/python/client/session.py\u001b[0m in \u001b[0;36mrun\u001b[0;34m(self, fetches, feed_dict, options, run_metadata)\u001b[0m\n\u001b[1;32m    903\u001b[0m     \u001b[0;32mtry\u001b[0m\u001b[0;34m:\u001b[0m\u001b[0;34m\u001b[0m\u001b[0;34m\u001b[0m\u001b[0m\n\u001b[1;32m    904\u001b[0m       result = self._run(None, fetches, feed_dict, options_ptr,\n\u001b[0;32m--> 905\u001b[0;31m                          run_metadata_ptr)\n\u001b[0m\u001b[1;32m    906\u001b[0m       \u001b[0;32mif\u001b[0m \u001b[0mrun_metadata\u001b[0m\u001b[0;34m:\u001b[0m\u001b[0;34m\u001b[0m\u001b[0;34m\u001b[0m\u001b[0m\n\u001b[1;32m    907\u001b[0m         \u001b[0mproto_data\u001b[0m \u001b[0;34m=\u001b[0m \u001b[0mtf_session\u001b[0m\u001b[0;34m.\u001b[0m\u001b[0mTF_GetBuffer\u001b[0m\u001b[0;34m(\u001b[0m\u001b[0mrun_metadata_ptr\u001b[0m\u001b[0;34m)\u001b[0m\u001b[0;34m\u001b[0m\u001b[0;34m\u001b[0m\u001b[0m\n",
      "\u001b[0;32m/Applications/anaconda3/envs/learn-env/lib/python3.6/site-packages/tensorflow/python/client/session.py\u001b[0m in \u001b[0;36m_run\u001b[0;34m(self, handle, fetches, feed_dict, options, run_metadata)\u001b[0m\n\u001b[1;32m   1135\u001b[0m     \u001b[0;32mif\u001b[0m \u001b[0mfinal_fetches\u001b[0m \u001b[0;32mor\u001b[0m \u001b[0mfinal_targets\u001b[0m \u001b[0;32mor\u001b[0m \u001b[0;34m(\u001b[0m\u001b[0mhandle\u001b[0m \u001b[0;32mand\u001b[0m \u001b[0mfeed_dict_tensor\u001b[0m\u001b[0;34m)\u001b[0m\u001b[0;34m:\u001b[0m\u001b[0;34m\u001b[0m\u001b[0;34m\u001b[0m\u001b[0m\n\u001b[1;32m   1136\u001b[0m       results = self._do_run(handle, final_targets, final_fetches,\n\u001b[0;32m-> 1137\u001b[0;31m                              feed_dict_tensor, options, run_metadata)\n\u001b[0m\u001b[1;32m   1138\u001b[0m     \u001b[0;32melse\u001b[0m\u001b[0;34m:\u001b[0m\u001b[0;34m\u001b[0m\u001b[0;34m\u001b[0m\u001b[0m\n\u001b[1;32m   1139\u001b[0m       \u001b[0mresults\u001b[0m \u001b[0;34m=\u001b[0m \u001b[0;34m[\u001b[0m\u001b[0;34m]\u001b[0m\u001b[0;34m\u001b[0m\u001b[0;34m\u001b[0m\u001b[0m\n",
      "\u001b[0;32m/Applications/anaconda3/envs/learn-env/lib/python3.6/site-packages/tensorflow/python/client/session.py\u001b[0m in \u001b[0;36m_do_run\u001b[0;34m(self, handle, target_list, fetch_list, feed_dict, options, run_metadata)\u001b[0m\n\u001b[1;32m   1353\u001b[0m     \u001b[0;32mif\u001b[0m \u001b[0mhandle\u001b[0m \u001b[0;32mis\u001b[0m \u001b[0;32mNone\u001b[0m\u001b[0;34m:\u001b[0m\u001b[0;34m\u001b[0m\u001b[0;34m\u001b[0m\u001b[0m\n\u001b[1;32m   1354\u001b[0m       return self._do_call(_run_fn, self._session, feeds, fetches, targets,\n\u001b[0;32m-> 1355\u001b[0;31m                            options, run_metadata)\n\u001b[0m\u001b[1;32m   1356\u001b[0m     \u001b[0;32melse\u001b[0m\u001b[0;34m:\u001b[0m\u001b[0;34m\u001b[0m\u001b[0;34m\u001b[0m\u001b[0m\n\u001b[1;32m   1357\u001b[0m       \u001b[0;32mreturn\u001b[0m \u001b[0mself\u001b[0m\u001b[0;34m.\u001b[0m\u001b[0m_do_call\u001b[0m\u001b[0;34m(\u001b[0m\u001b[0m_prun_fn\u001b[0m\u001b[0;34m,\u001b[0m \u001b[0mself\u001b[0m\u001b[0;34m.\u001b[0m\u001b[0m_session\u001b[0m\u001b[0;34m,\u001b[0m \u001b[0mhandle\u001b[0m\u001b[0;34m,\u001b[0m \u001b[0mfeeds\u001b[0m\u001b[0;34m,\u001b[0m \u001b[0mfetches\u001b[0m\u001b[0;34m)\u001b[0m\u001b[0;34m\u001b[0m\u001b[0;34m\u001b[0m\u001b[0m\n",
      "\u001b[0;32m/Applications/anaconda3/envs/learn-env/lib/python3.6/site-packages/tensorflow/python/client/session.py\u001b[0m in \u001b[0;36m_do_call\u001b[0;34m(self, fn, *args)\u001b[0m\n\u001b[1;32m   1359\u001b[0m   \u001b[0;32mdef\u001b[0m \u001b[0m_do_call\u001b[0m\u001b[0;34m(\u001b[0m\u001b[0mself\u001b[0m\u001b[0;34m,\u001b[0m \u001b[0mfn\u001b[0m\u001b[0;34m,\u001b[0m \u001b[0;34m*\u001b[0m\u001b[0margs\u001b[0m\u001b[0;34m)\u001b[0m\u001b[0;34m:\u001b[0m\u001b[0;34m\u001b[0m\u001b[0;34m\u001b[0m\u001b[0m\n\u001b[1;32m   1360\u001b[0m     \u001b[0;32mtry\u001b[0m\u001b[0;34m:\u001b[0m\u001b[0;34m\u001b[0m\u001b[0;34m\u001b[0m\u001b[0m\n\u001b[0;32m-> 1361\u001b[0;31m       \u001b[0;32mreturn\u001b[0m \u001b[0mfn\u001b[0m\u001b[0;34m(\u001b[0m\u001b[0;34m*\u001b[0m\u001b[0margs\u001b[0m\u001b[0;34m)\u001b[0m\u001b[0;34m\u001b[0m\u001b[0;34m\u001b[0m\u001b[0m\n\u001b[0m\u001b[1;32m   1362\u001b[0m     \u001b[0;32mexcept\u001b[0m \u001b[0merrors\u001b[0m\u001b[0;34m.\u001b[0m\u001b[0mOpError\u001b[0m \u001b[0;32mas\u001b[0m \u001b[0me\u001b[0m\u001b[0;34m:\u001b[0m\u001b[0;34m\u001b[0m\u001b[0;34m\u001b[0m\u001b[0m\n\u001b[1;32m   1363\u001b[0m       \u001b[0mmessage\u001b[0m \u001b[0;34m=\u001b[0m \u001b[0mcompat\u001b[0m\u001b[0;34m.\u001b[0m\u001b[0mas_text\u001b[0m\u001b[0;34m(\u001b[0m\u001b[0me\u001b[0m\u001b[0;34m.\u001b[0m\u001b[0mmessage\u001b[0m\u001b[0;34m)\u001b[0m\u001b[0;34m\u001b[0m\u001b[0;34m\u001b[0m\u001b[0m\n",
      "\u001b[0;32m/Applications/anaconda3/envs/learn-env/lib/python3.6/site-packages/tensorflow/python/client/session.py\u001b[0m in \u001b[0;36m_run_fn\u001b[0;34m(session, feed_dict, fetch_list, target_list, options, run_metadata)\u001b[0m\n\u001b[1;32m   1338\u001b[0m         \u001b[0;32melse\u001b[0m\u001b[0;34m:\u001b[0m\u001b[0;34m\u001b[0m\u001b[0;34m\u001b[0m\u001b[0m\n\u001b[1;32m   1339\u001b[0m           return tf_session.TF_Run(session, options, feed_dict, fetch_list,\n\u001b[0;32m-> 1340\u001b[0;31m                                    target_list, status, run_metadata)\n\u001b[0m\u001b[1;32m   1341\u001b[0m \u001b[0;34m\u001b[0m\u001b[0m\n\u001b[1;32m   1342\u001b[0m     \u001b[0;32mdef\u001b[0m \u001b[0m_prun_fn\u001b[0m\u001b[0;34m(\u001b[0m\u001b[0msession\u001b[0m\u001b[0;34m,\u001b[0m \u001b[0mhandle\u001b[0m\u001b[0;34m,\u001b[0m \u001b[0mfeed_dict\u001b[0m\u001b[0;34m,\u001b[0m \u001b[0mfetch_list\u001b[0m\u001b[0;34m)\u001b[0m\u001b[0;34m:\u001b[0m\u001b[0;34m\u001b[0m\u001b[0;34m\u001b[0m\u001b[0m\n",
      "\u001b[0;31mKeyboardInterrupt\u001b[0m: "
     ]
    }
   ],
   "source": [
    "# Build the CNN\n",
    "\n",
    "# Convolution & Pooling\n",
    "model5 = Sequential()\n",
    "\n",
    "model5.add(layers.Conv2D(32, (3, 3), activation='tanh', input_shape=(64, 64, 3)))\n",
    "model5.add(layers.MaxPooling2D((2, 2)))\n",
    "\n",
    "model5.add(layers.Conv2D(32, (4, 4), activation='tanh', kernel_regularizer=regularizers.l2(l=0.01)))\n",
    "model5.add(layers.MaxPooling2D((2, 2)))\n",
    "\n",
    "model5.add(layers.Conv2D(64, (3, 3), activation='tanh', kernel_regularizer=regularizers.l2(l=0.01)))\n",
    "model5.add(layers.MaxPooling2D((2,2)))\n",
    "\n",
    "# Flattening\n",
    "model5.add(layers.Flatten())\n",
    "model5.add(layers.Dense(64, activation = 'tanh', kernel_regularizer=regularizers.l2(l=0.01)))\n",
    "model5.add(layers.Dense(1, activation='softmax'))\n",
    "\n",
    "# Decrease the learning rate to 0.005 to take smaller \"steps\"    \n",
    "model5.compile(optimizer=Adam(lr=0.005),loss='binary_crossentropy', metrics=['accuracy'])\n",
    "\n",
    "# Increase the batch size, from 500 to 750, to attempt to correct the bias\n",
    "# Manually stop after if/when the loss and accuracy stops improving after updating the activation functions and batch size\n",
    "results5 = model5.fit(train_images, train_labels_final, epochs=15, batch_size=750, validation_data=(val_images, val_labels_final))\n",
    "\n",
    "print('='*120)"
   ]
  },
  {
   "cell_type": "code",
   "execution_count": null,
   "metadata": {},
   "outputs": [],
   "source": []
  },
  {
   "cell_type": "markdown",
   "metadata": {},
   "source": [
    "## Model 6: Reduce the amount of Layers, Increase Batch Size"
   ]
  },
  {
   "cell_type": "code",
   "execution_count": 160,
   "metadata": {},
   "outputs": [
    {
     "name": "stdout",
     "output_type": "stream",
     "text": [
      "Train on 7685 samples, validate on 16 samples\n",
      "Epoch 1/15\n",
      "7685/7685 [==============================] - 31s 4ms/step - loss: 8.3651 - acc: 0.4958 - val_loss: 8.0388 - val_acc: 0.5000\n",
      "Epoch 2/15\n",
      "7685/7685 [==============================] - 27s 3ms/step - loss: 8.0705 - acc: 0.4958 - val_loss: 7.9943 - val_acc: 0.5000\n",
      "Epoch 3/15\n",
      "7685/7685 [==============================] - 33s 4ms/step - loss: 8.0659 - acc: 0.4958 - val_loss: 7.9961 - val_acc: 0.5000\n",
      "Epoch 4/15\n",
      "7685/7685 [==============================] - 30s 4ms/step - loss: 8.0553 - acc: 0.4958 - val_loss: 7.9780 - val_acc: 0.5000\n",
      "Epoch 5/15\n",
      "7685/7685 [==============================] - 42s 6ms/step - loss: 8.0427 - acc: 0.4958 - val_loss: 7.9738 - val_acc: 0.5000\n",
      "Epoch 6/15\n",
      "7685/7685 [==============================] - 31s 4ms/step - loss: 8.0411 - acc: 0.4958 - val_loss: 7.9732 - val_acc: 0.5000\n",
      "Epoch 7/15\n",
      "7685/7685 [==============================] - 27s 3ms/step - loss: 8.0399 - acc: 0.4958 - val_loss: 7.9718 - val_acc: 0.5000\n",
      "Epoch 8/15\n",
      "7685/7685 [==============================] - 33s 4ms/step - loss: 8.0390 - acc: 0.4958 - val_loss: 7.9715 - val_acc: 0.5000\n",
      "Epoch 9/15\n",
      "7685/7685 [==============================] - 29s 4ms/step - loss: 8.0389 - acc: 0.4958 - val_loss: 7.9713 - val_acc: 0.5000\n",
      "Epoch 10/15\n",
      "7685/7685 [==============================] - 41s 5ms/step - loss: 8.0387 - acc: 0.4958 - val_loss: 7.9712 - val_acc: 0.5000\n",
      "Epoch 11/15\n",
      "7685/7685 [==============================] - 32s 4ms/step - loss: 8.0387 - acc: 0.4958 - val_loss: 7.9712 - val_acc: 0.5000\n",
      "Epoch 12/15\n",
      "7685/7685 [==============================] - 30s 4ms/step - loss: 8.0386 - acc: 0.4958 - val_loss: 7.9712 - val_acc: 0.5000\n",
      "Epoch 13/15\n",
      "7685/7685 [==============================] - 30s 4ms/step - loss: 8.0386 - acc: 0.4958 - val_loss: 7.9712 - val_acc: 0.5000\n",
      "Epoch 14/15\n",
      "7685/7685 [==============================] - 31s 4ms/step - loss: 8.0386 - acc: 0.4958 - val_loss: 7.9712 - val_acc: 0.5000\n",
      "Epoch 15/15\n",
      "7685/7685 [==============================] - 31s 4ms/step - loss: 8.0386 - acc: 0.4958 - val_loss: 7.9712 - val_acc: 0.5000\n"
     ]
    }
   ],
   "source": [
    "model6 = Sequential()\n",
    "\n",
    "model6.add(layers.Conv2D(32, (3, 3), activation='tanh', input_shape=(64, 64, 3)))\n",
    "model6.add(layers.MaxPooling2D((2, 2)))\n",
    "\n",
    "model6.add(layers.Flatten())\n",
    "model6.add(layers.Dense(64, activation = 'tanh', kernel_regularizer=regularizers.l2(l=0.005)))\n",
    "model6.add(layers.Dense(1, activation='softmax'))\n",
    "\n",
    "# Decrease learning rate for the Adam optimizer\n",
    "model6.compile(optimizer=Adam(lr=0.001),loss='binary_crossentropy', metrics=['accuracy'])\n",
    "# Increase batch size from 750 to 1000\n",
    "results6 = model6.fit(train_images, train_labels_final, epochs=15, batch_size=1000, validation_data=(val_images, val_labels_final))"
   ]
  },
  {
   "cell_type": "code",
   "execution_count": 212,
   "metadata": {},
   "outputs": [
    {
     "data": {
      "image/png": "[encoded data removed]",
      "text/plain": [
       "<Figure size 432x288 with 1 Axes>"
      ]
     },
     "metadata": {
      "needs_background": "light"
     },
     "output_type": "display_data"
    },
    {
     "data": {
      "image/png": "[encoded data removed]",
      "text/plain": [
       "<Figure size 432x288 with 1 Axes>"
      ]
     },
     "metadata": {
      "needs_background": "light"
     },
     "output_type": "display_data"
    }
   ],
   "source": [
    "visualize_training_results(results6)"
   ]
  },
  {
   "cell_type": "markdown",
   "metadata": {},
   "source": [
    "The loss fluctuates at 2 epochs, then continues to decrease, and remains constant after 4 epochs."
   ]
  },
  {
   "cell_type": "code",
   "execution_count": 213,
   "metadata": {},
   "outputs": [
    {
     "name": "stdout",
     "output_type": "stream",
     "text": [
      "7685/7685 [==============================] - 13s 2ms/step\n"
     ]
    },
    {
     "data": {
      "text/plain": [
       "[8.038614438862947, 0.4957709824488236]"
      ]
     },
     "execution_count": 213,
     "metadata": {},
     "output_type": "execute_result"
    }
   ],
   "source": [
    "model6.evaluate(train_images, train_labels_final)"
   ]
  },
  {
   "cell_type": "code",
   "execution_count": 214,
   "metadata": {
    "scrolled": true
   },
   "outputs": [
    {
     "name": "stdout",
     "output_type": "stream",
     "text": [
      "\r",
      "16/16 [==============================] - 0s 7ms/step\n"
     ]
    },
    {
     "data": {
      "text/plain": [
       "[7.971193313598633, 0.5]"
      ]
     },
     "execution_count": 214,
     "metadata": {},
     "output_type": "execute_result"
    }
   ],
   "source": [
    "model6.evaluate(val_images, val_labels_final)"
   ]
  },
  {
   "cell_type": "code",
   "execution_count": 215,
   "metadata": {},
   "outputs": [],
   "source": [
    "preds6 = model6.predict(val_images)"
   ]
  },
  {
   "cell_type": "code",
   "execution_count": 217,
   "metadata": {},
   "outputs": [
    {
     "data": {
      "image/png": "[encoded data removed]",
      "text/plain": [
       "<Figure size 432x288 with 2 Axes>"
      ]
     },
     "metadata": {
      "needs_background": "light"
     },
     "output_type": "display_data"
    }
   ],
   "source": [
    "plot_confusion_matrix(val_labels_final, preds6)"
   ]
  },
  {
   "cell_type": "markdown",
   "metadata": {},
   "source": [
    "# Model 7: Validate Model with Test Set"
   ]
  },
  {
   "cell_type": "code",
   "execution_count": 13,
   "metadata": {},
   "outputs": [
    {
     "name": "stdout",
     "output_type": "stream",
     "text": [
      "Train on 7685 samples, validate on 624 samples\n",
      "Epoch 1/11\n",
      "7685/7685 [==============================] - 69s 9ms/step - loss: 8.5613 - acc: 0.4958 - val_loss: 10.1806 - val_acc: 0.3750\n",
      "Epoch 2/11\n",
      "7685/7685 [==============================] - 84s 11ms/step - loss: 8.1558 - acc: 0.4958 - val_loss: 10.0222 - val_acc: 0.3750\n",
      "Epoch 3/11\n",
      "7685/7685 [==============================] - 67s 9ms/step - loss: 8.0733 - acc: 0.4958 - val_loss: 9.9854 - val_acc: 0.3750\n",
      "Epoch 4/11\n",
      "7685/7685 [==============================] - 67s 9ms/step - loss: 8.0508 - acc: 0.4958 - val_loss: 9.9702 - val_acc: 0.3750\n",
      "Epoch 5/11\n",
      "7685/7685 [==============================] - 72s 9ms/step - loss: 8.0428 - acc: 0.4958 - val_loss: 9.9658 - val_acc: 0.3750\n",
      "Epoch 6/11\n",
      "7685/7685 [==============================] - 63s 8ms/step - loss: 8.0399 - acc: 0.4958 - val_loss: 9.9646 - val_acc: 0.3750\n",
      "Epoch 7/11\n",
      "7685/7685 [==============================] - 69s 9ms/step - loss: 8.0390 - acc: 0.4958 - val_loss: 9.9642 - val_acc: 0.3750\n",
      "Epoch 8/11\n",
      "7685/7685 [==============================] - 65s 8ms/step - loss: 8.0388 - acc: 0.4958 - val_loss: 9.9641 - val_acc: 0.3750\n",
      "Epoch 9/11\n",
      "7685/7685 [==============================] - 62s 8ms/step - loss: 8.0387 - acc: 0.4958 - val_loss: 9.9640 - val_acc: 0.3750\n",
      "Epoch 10/11\n",
      "7685/7685 [==============================] - 61s 8ms/step - loss: 8.0386 - acc: 0.4958 - val_loss: 9.9640 - val_acc: 0.3750\n",
      "Epoch 11/11\n",
      "7685/7685 [==============================] - 71s 9ms/step - loss: 8.0386 - acc: 0.4958 - val_loss: 9.9640 - val_acc: 0.3750\n"
     ]
    }
   ],
   "source": [
    "# Build the CNN\n",
    "\n",
    "# Convolution & Pooling\n",
    "model7 = Sequential()\n",
    "\n",
    "# Return to original layer count\n",
    "model7.add(layers.Conv2D(32, (3, 3), activation='tanh', input_shape=(64, 64, 3)))\n",
    "model7.add(layers.MaxPooling2D((2, 2)))\n",
    "\n",
    "model7.add(layers.Conv2D(32, (4, 4), activation='tanh', kernel_regularizer=regularizers.l2(l=0.01)))\n",
    "model7.add(layers.MaxPooling2D((2, 2)))\n",
    "\n",
    "model7.add(layers.Conv2D(64, (3, 3), activation='tanh', kernel_regularizer=regularizers.l2(l=0.01)))\n",
    "model7.add(layers.MaxPooling2D((2,2)))\n",
    "\n",
    "# Flattening\n",
    "model7.add(layers.Flatten())\n",
    "model7.add(layers.Dense(64, activation = 'tanh', kernel_regularizer=regularizers.l2(l=0.01)))\n",
    "model7.add(layers.Dense(1, activation='softmax'))\n",
    "\n",
    "    \n",
    "model7.compile(optimizer=Adam(lr=0.01),loss='binary_crossentropy', metrics=['accuracy'])\n",
    "\n",
    "    \n",
    "results7 = model7.fit(train_images, train_labels_final, epochs=11, batch_size=750, validation_data=(test_images, test_labels_final))\n",
    "\n"
   ]
  },
  {
   "cell_type": "code",
   "execution_count": 16,
   "metadata": {},
   "outputs": [
    {
     "data": {
      "image/png": "[encoded data removed]",
      "text/plain": [
       "<Figure size 432x288 with 1 Axes>"
      ]
     },
     "metadata": {
      "needs_background": "light"
     },
     "output_type": "display_data"
    },
    {
     "data": {
      "image/png": "[encoded data removed]",
      "text/plain": [
       "<Figure size 432x288 with 1 Axes>"
      ]
     },
     "metadata": {
      "needs_background": "light"
     },
     "output_type": "display_data"
    }
   ],
   "source": [
    "visualize_training_results(results7)"
   ]
  },
  {
   "cell_type": "markdown",
   "metadata": {},
   "source": [
    "The loss has increased between the traing and test set. The bias and variance in the model has increased, with the training accuracy being 0.50, and the testing accuracy is 0.375. In upcoming projects, given the proper tech tools, I want to double the amount of images, increase the amount of hidden layers to reveal more features, and increase the size of the images to 150 x 150 so that the model is able to capture more features, and experiment with the neuron count."
   ]
  },
  {
   "cell_type": "code",
   "execution_count": 17,
   "metadata": {},
   "outputs": [
    {
     "name": "stdout",
     "output_type": "stream",
     "text": [
      "7685/7685 [==============================] - 16s 2ms/step\n"
     ]
    },
    {
     "data": {
      "text/plain": [
       "[8.038615184056736, 0.49577098243718964]"
      ]
     },
     "execution_count": 17,
     "metadata": {},
     "output_type": "execute_result"
    }
   ],
   "source": [
    "model7.evaluate(train_images, train_labels_final)"
   ]
  },
  {
   "cell_type": "code",
   "execution_count": 18,
   "metadata": {},
   "outputs": [
    {
     "name": "stdout",
     "output_type": "stream",
     "text": [
      "624/624 [==============================] - 1s 2ms/step\n"
     ]
    },
    {
     "data": {
      "text/plain": [
       "[9.963992253327982, 0.375]"
      ]
     },
     "execution_count": 18,
     "metadata": {},
     "output_type": "execute_result"
    }
   ],
   "source": [
    "model7.evaluate(test_images, test_labels_final)"
   ]
  },
  {
   "cell_type": "code",
   "execution_count": 19,
   "metadata": {},
   "outputs": [],
   "source": [
    "test_preds = model7.predict(test_images)"
   ]
  },
  {
   "cell_type": "code",
   "execution_count": 20,
   "metadata": {
    "scrolled": true
   },
   "outputs": [
    {
     "data": {
      "image/png": "[encoded data removed]",
      "text/plain": [
       "<Figure size 432x288 with 2 Axes>"
      ]
     },
     "metadata": {
      "needs_background": "light"
     },
     "output_type": "display_data"
    }
   ],
   "source": [
    "plot_confusion_matrix(test_labels_final, test_preds)"
   ]
  },
  {
   "cell_type": "code",
   "execution_count": 47,
   "metadata": {},
   "outputs": [],
   "source": [
    "# Save the model\n",
    "# print('saving model to disk \\n')\n",
    "# mod = './/Models/final_scratchmod'\n",
    "# model7.save(mod)"
   ]
  },
  {
   "cell_type": "markdown",
   "metadata": {},
   "source": [
    "# Model 9: Transfer Learning"
   ]
  },
  {
   "cell_type": "code",
   "execution_count": 15,
   "metadata": {},
   "outputs": [],
   "source": [
    "# Update the input shape from the default settings of the VGG16\n",
    "# model to (64, 64, 3) the input shape of the training images\n",
    "pretrain_mod1 = VGG16(include_top= False, input_shape=(64,64,3))"
   ]
  },
  {
   "cell_type": "code",
   "execution_count": 12,
   "metadata": {
    "scrolled": true
   },
   "outputs": [
    {
     "name": "stdout",
     "output_type": "stream",
     "text": [
      "_________________________________________________________________\n",
      "Layer (type)                 Output Shape              Param #   \n",
      "=================================================================\n",
      "input_1 (InputLayer)         (None, 64, 64, 3)         0         \n",
      "_________________________________________________________________\n",
      "block1_conv1 (Conv2D)        (None, 64, 64, 64)        1792      \n",
      "_________________________________________________________________\n",
      "block1_conv2 (Conv2D)        (None, 64, 64, 64)        36928     \n",
      "_________________________________________________________________\n",
      "block1_pool (MaxPooling2D)   (None, 32, 32, 64)        0         \n",
      "_________________________________________________________________\n",
      "block2_conv1 (Conv2D)        (None, 32, 32, 128)       73856     \n",
      "_________________________________________________________________\n",
      "block2_conv2 (Conv2D)        (None, 32, 32, 128)       147584    \n",
      "_________________________________________________________________\n",
      "block2_pool (MaxPooling2D)   (None, 16, 16, 128)       0         \n",
      "_________________________________________________________________\n",
      "block3_conv1 (Conv2D)        (None, 16, 16, 256)       295168    \n",
      "_________________________________________________________________\n",
      "block3_conv2 (Conv2D)        (None, 16, 16, 256)       590080    \n",
      "_________________________________________________________________\n",
      "block3_conv3 (Conv2D)        (None, 16, 16, 256)       590080    \n",
      "_________________________________________________________________\n",
      "block3_pool (MaxPooling2D)   (None, 8, 8, 256)         0         \n",
      "_________________________________________________________________\n",
      "block4_conv1 (Conv2D)        (None, 8, 8, 512)         1180160   \n",
      "_________________________________________________________________\n",
      "block4_conv2 (Conv2D)        (None, 8, 8, 512)         2359808   \n",
      "_________________________________________________________________\n",
      "block4_conv3 (Conv2D)        (None, 8, 8, 512)         2359808   \n",
      "_________________________________________________________________\n",
      "block4_pool (MaxPooling2D)   (None, 4, 4, 512)         0         \n",
      "_________________________________________________________________\n",
      "block5_conv1 (Conv2D)        (None, 4, 4, 512)         2359808   \n",
      "_________________________________________________________________\n",
      "block5_conv2 (Conv2D)        (None, 4, 4, 512)         2359808   \n",
      "_________________________________________________________________\n",
      "block5_conv3 (Conv2D)        (None, 4, 4, 512)         2359808   \n",
      "_________________________________________________________________\n",
      "block5_pool (MaxPooling2D)   (None, 2, 2, 512)         0         \n",
      "=================================================================\n",
      "Total params: 14,714,688\n",
      "Trainable params: 14,714,688\n",
      "Non-trainable params: 0\n",
      "_________________________________________________________________\n"
     ]
    }
   ],
   "source": [
    "# Review the summary of the model\n",
    "pretrain_mod1.summary()"
   ]
  },
  {
   "cell_type": "code",
   "execution_count": 16,
   "metadata": {},
   "outputs": [],
   "source": [
    "model9 = Sequential()\n",
    "\n",
    "# Import the pretrained model (layers)\n",
    "model9.add(pretrain_mod1)\n",
    "\n",
    "# Add the 1D Layer\n",
    "model9.add(layers.Flatten())\n",
    "model9.add(layers.Dense(132, activation='tanh'))\n",
    "model9.add(layers.Dense(1, activation='softmax'))\n",
    "\n"
   ]
  },
  {
   "cell_type": "code",
   "execution_count": 17,
   "metadata": {},
   "outputs": [
    {
     "name": "stdout",
     "output_type": "stream",
     "text": [
      "vgg16 True\n",
      "flatten_1 True\n",
      "dense_1 True\n",
      "dense_2 True\n",
      "30\n"
     ]
    }
   ],
   "source": [
    "# Check whether the layer is trainable (or alter its setting)\n",
    "for layer in model9.layers:\n",
    "    print(layer.name, layer.trainable)\n",
    "    \n",
    "# Check how many trainable weights are in the model\n",
    "print(len(model9.trainable_weights))"
   ]
  },
  {
   "cell_type": "code",
   "execution_count": 18,
   "metadata": {},
   "outputs": [],
   "source": [
    "# Freeze the convolutional base all of the weights associated \n",
    "# with that layer(s) will remain unchanged through the optimization process)\n",
    "pretrain_mod1.trainable = False"
   ]
  },
  {
   "cell_type": "code",
   "execution_count": 19,
   "metadata": {},
   "outputs": [
    {
     "name": "stdout",
     "output_type": "stream",
     "text": [
      "vgg16 False\n",
      "flatten_1 True\n",
      "dense_1 True\n",
      "dense_2 True\n",
      "4\n"
     ]
    }
   ],
   "source": [
    "# Do a sanity check to make sure the \n",
    "# layers were actually frozen\n",
    "for layer in model9.layers:\n",
    "    print(layer.name, layer.trainable)\n",
    "\n",
    "print(len(model9.trainable_weights))"
   ]
  },
  {
   "cell_type": "code",
   "execution_count": 20,
   "metadata": {},
   "outputs": [],
   "source": [
    "model9.compile(loss='binary_crossentropy', optimizer=Adam(lr=0.01), metrics=['accuracy'])"
   ]
  },
  {
   "cell_type": "code",
   "execution_count": 21,
   "metadata": {
    "scrolled": true
   },
   "outputs": [
    {
     "name": "stdout",
     "output_type": "stream",
     "text": [
      "Train on 7685 samples, validate on 624 samples\n",
      "Epoch 1/11\n",
      "7685/7685 [==============================] - 833s 108ms/step - loss: 8.0386 - acc: 0.4958 - val_loss: 9.9640 - val_acc: 0.3750\n",
      "Epoch 2/11\n",
      "7685/7685 [==============================] - 883s 115ms/step - loss: 8.0386 - acc: 0.4958 - val_loss: 9.9640 - val_acc: 0.3750\n",
      "Epoch 3/11\n",
      "7685/7685 [==============================] - 807s 105ms/step - loss: 8.0386 - acc: 0.4958 - val_loss: 9.9640 - val_acc: 0.3750\n",
      "Epoch 4/11\n",
      "7685/7685 [==============================] - 738s 96ms/step - loss: 8.0386 - acc: 0.4958 - val_loss: 9.9640 - val_acc: 0.3750\n",
      "Epoch 5/11\n",
      "7685/7685 [==============================] - 679s 88ms/step - loss: 8.0386 - acc: 0.4958 - val_loss: 9.9640 - val_acc: 0.3750\n",
      "Epoch 6/11\n",
      "7685/7685 [==============================] - 737s 96ms/step - loss: 8.0386 - acc: 0.4958 - val_loss: 9.9640 - val_acc: 0.3750\n",
      "Epoch 7/11\n",
      "7685/7685 [==============================] - 632s 82ms/step - loss: 8.0386 - acc: 0.4958 - val_loss: 9.9640 - val_acc: 0.3750\n",
      "Epoch 8/11\n",
      "7685/7685 [==============================] - 616s 80ms/step - loss: 8.0386 - acc: 0.4958 - val_loss: 9.9640 - val_acc: 0.3750\n",
      "Epoch 9/11\n",
      "7685/7685 [==============================] - 595s 77ms/step - loss: 8.0386 - acc: 0.4958 - val_loss: 9.9640 - val_acc: 0.3750\n",
      "Epoch 10/11\n",
      "7685/7685 [==============================] - 598s 78ms/step - loss: 8.0386 - acc: 0.4958 - val_loss: 9.9640 - val_acc: 0.3750\n",
      "Epoch 11/11\n",
      "7685/7685 [==============================] - 604s 79ms/step - loss: 8.0386 - acc: 0.4958 - val_loss: 9.9640 - val_acc: 0.3750\n"
     ]
    }
   ],
   "source": [
    "results9 = model9.fit(train_images, train_labels_final, epochs=11, batch_size=750, validation_data=(test_images, test_labels_final))"
   ]
  },
  {
   "cell_type": "code",
   "execution_count": 24,
   "metadata": {},
   "outputs": [],
   "source": [
    "vgg_preds = model9.predict(test_images)\n"
   ]
  },
  {
   "cell_type": "code",
   "execution_count": 26,
   "metadata": {},
   "outputs": [
    {
     "name": "stdout",
     "output_type": "stream",
     "text": [
      "7685/7685 [==============================] - 341s 44ms/step\n"
     ]
    },
    {
     "data": {
      "text/plain": [
       "[8.038613455405697, 0.4957709824488236]"
      ]
     },
     "execution_count": 26,
     "metadata": {},
     "output_type": "execute_result"
    }
   ],
   "source": [
    "model9.evaluate(train_images, train_labels_final)"
   ]
  },
  {
   "cell_type": "code",
   "execution_count": 27,
   "metadata": {},
   "outputs": [
    {
     "name": "stdout",
     "output_type": "stream",
     "text": [
      "624/624 [==============================] - 22s 36ms/step\n"
     ]
    },
    {
     "data": {
      "text/plain": [
       "[9.96399109180157, 0.375]"
      ]
     },
     "execution_count": 27,
     "metadata": {},
     "output_type": "execute_result"
    }
   ],
   "source": [
    "model9.evaluate(test_images, test_labels_final)"
   ]
  },
  {
   "cell_type": "code",
   "execution_count": 28,
   "metadata": {},
   "outputs": [
    {
     "data": {
      "image/png": "[encoded data removed]",
      "text/plain": [
       "<Figure size 432x288 with 1 Axes>"
      ]
     },
     "metadata": {
      "needs_background": "light"
     },
     "output_type": "display_data"
    },
    {
     "data": {
      "image/png": "[encoded data removed]",
      "text/plain": [
       "<Figure size 432x288 with 1 Axes>"
      ]
     },
     "metadata": {
      "needs_background": "light"
     },
     "output_type": "display_data"
    }
   ],
   "source": [
    "visualize_training_results(results9)"
   ]
  },
  {
   "cell_type": "markdown",
   "metadata": {},
   "source": [
    "The results of the pretrained model, faired the same as the results from my final model. In addition to the improvements above, to improve upon this model, I will alter the neurons in the desne layers, and use feature extraction as a means of fine tuning. "
   ]
  },
  {
   "cell_type": "code",
   "execution_count": 29,
   "metadata": {},
   "outputs": [
    {
     "data": {
      "image/png": "[encoded data removed]",
      "text/plain": [
       "<Figure size 432x288 with 2 Axes>"
      ]
     },
     "metadata": {
      "needs_background": "light"
     },
     "output_type": "display_data"
    }
   ],
   "source": [
    "plot_confusion_matrix(test_labels_final, vgg_preds)"
   ]
  },
  {
   "cell_type": "code",
   "execution_count": 30,
   "metadata": {},
   "outputs": [
    {
     "name": "stdout",
     "output_type": "stream",
     "text": [
      "saving model to disk \n",
      "\n"
     ]
    }
   ],
   "source": [
    "# Save the pretrained model with the file name \"pretrained_mod9\"\n",
    "print('saving model to disk \\n')\n",
    "mod = './/Models/pretrained_mod9'\n",
    "model9.save(mod)"
   ]
  }
 ],
 "metadata": {
  "kernelspec": {
   "display_name": "learn-env",
   "language": "python",
   "name": "learn-env"
  },
  "language_info": {
   "codemirror_mode": {
    "name": "ipython",
    "version": 3
   },
   "file_extension": ".py",
   "mimetype": "text/x-python",
   "name": "python",
   "nbconvert_exporter": "python",
   "pygments_lexer": "ipython3",
   "version": "3.6.9"
  }
 },
 "nbformat": 4,
 "nbformat_minor": 2
}
